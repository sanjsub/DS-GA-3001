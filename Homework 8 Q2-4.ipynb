{
 "cells": [
  {
   "cell_type": "code",
   "execution_count": 1,
   "id": "marked-optimum",
   "metadata": {},
   "outputs": [],
   "source": [
    "import pandas as pd\n",
    "import numpy as np\n",
    "import pylogit\n",
    "from scipy.special import logit\n",
    "from datetime import timedelta\n",
    "import statsmodels.formula.api as smf\n",
    "from sklearn.metrics import brier_score_loss, mean_squared_error\n",
    "pd.options.display.max_columns = 100"
   ]
  },
  {
   "cell_type": "code",
   "execution_count": 2,
   "id": "floppy-earthquake",
   "metadata": {},
   "outputs": [],
   "source": [
    "df = pd.read_csv('xc.csv', parse_dates = ['dt'])\n",
    "df = df.loc[df.race_type == 'flat_race']"
   ]
  },
  {
   "cell_type": "code",
   "execution_count": 39,
   "id": "fabulous-latest",
   "metadata": {},
   "outputs": [
    {
     "data": {
      "text/html": [
       "<div>\n",
       "<style scoped>\n",
       "    .dataframe tbody tr th:only-of-type {\n",
       "        vertical-align: middle;\n",
       "    }\n",
       "\n",
       "    .dataframe tbody tr th {\n",
       "        vertical-align: top;\n",
       "    }\n",
       "\n",
       "    .dataframe thead th {\n",
       "        text-align: right;\n",
       "    }\n",
       "</style>\n",
       "<table border=\"1\" class=\"dataframe\">\n",
       "  <thead>\n",
       "    <tr style=\"text-align: right;\">\n",
       "      <th></th>\n",
       "      <th>Unnamed: 0</th>\n",
       "      <th>race_id</th>\n",
       "      <th>stadium_id</th>\n",
       "      <th>distance_m</th>\n",
       "      <th>going</th>\n",
       "      <th>race_type</th>\n",
       "      <th>race_grade</th>\n",
       "      <th>dog_id</th>\n",
       "      <th>place</th>\n",
       "      <th>time</th>\n",
       "      <th>decimal_price</th>\n",
       "      <th>comment</th>\n",
       "      <th>box</th>\n",
       "      <th>kg</th>\n",
       "      <th>winner</th>\n",
       "      <th>dt</th>\n",
       "      <th>origTime</th>\n",
       "      <th>dnf</th>\n",
       "    </tr>\n",
       "  </thead>\n",
       "  <tbody>\n",
       "    <tr>\n",
       "      <th>0</th>\n",
       "      <td>1</td>\n",
       "      <td>4418717</td>\n",
       "      <td>13025</td>\n",
       "      <td>515</td>\n",
       "      <td>-0.1</td>\n",
       "      <td>flat_race</td>\n",
       "      <td>A6</td>\n",
       "      <td>2176330</td>\n",
       "      <td>4</td>\n",
       "      <td>31.41</td>\n",
       "      <td>11.0</td>\n",
       "      <td>BadlyBlkVW1,Crd3</td>\n",
       "      <td>5</td>\n",
       "      <td>27.75</td>\n",
       "      <td>0</td>\n",
       "      <td>2019-01-01</td>\n",
       "      <td>31.41</td>\n",
       "      <td>0</td>\n",
       "    </tr>\n",
       "    <tr>\n",
       "      <th>1</th>\n",
       "      <td>2</td>\n",
       "      <td>4418717</td>\n",
       "      <td>13025</td>\n",
       "      <td>515</td>\n",
       "      <td>-0.1</td>\n",
       "      <td>flat_race</td>\n",
       "      <td>A6</td>\n",
       "      <td>2207348</td>\n",
       "      <td>3</td>\n",
       "      <td>31.33</td>\n",
       "      <td>7.0</td>\n",
       "      <td>CrdRnUp&amp;1,Led2To 3/4</td>\n",
       "      <td>1</td>\n",
       "      <td>31.25</td>\n",
       "      <td>0</td>\n",
       "      <td>2019-01-01</td>\n",
       "      <td>31.33</td>\n",
       "      <td>0</td>\n",
       "    </tr>\n",
       "    <tr>\n",
       "      <th>2</th>\n",
       "      <td>3</td>\n",
       "      <td>4418717</td>\n",
       "      <td>13025</td>\n",
       "      <td>515</td>\n",
       "      <td>-0.1</td>\n",
       "      <td>flat_race</td>\n",
       "      <td>A6</td>\n",
       "      <td>2216661</td>\n",
       "      <td>5</td>\n",
       "      <td>31.49</td>\n",
       "      <td>7.0</td>\n",
       "      <td>BadlyBlkWide1,Blk3</td>\n",
       "      <td>6</td>\n",
       "      <td>28.50</td>\n",
       "      <td>0</td>\n",
       "      <td>2019-01-01</td>\n",
       "      <td>31.49</td>\n",
       "      <td>0</td>\n",
       "    </tr>\n",
       "    <tr>\n",
       "      <th>3</th>\n",
       "      <td>4</td>\n",
       "      <td>4418717</td>\n",
       "      <td>13025</td>\n",
       "      <td>515</td>\n",
       "      <td>-0.1</td>\n",
       "      <td>flat_race</td>\n",
       "      <td>A6</td>\n",
       "      <td>2338001</td>\n",
       "      <td>2</td>\n",
       "      <td>31.31</td>\n",
       "      <td>3.5</td>\n",
       "      <td>SAw,BBlk 1/4,Crowded3</td>\n",
       "      <td>4</td>\n",
       "      <td>35.50</td>\n",
       "      <td>0</td>\n",
       "      <td>2019-01-01</td>\n",
       "      <td>31.31</td>\n",
       "      <td>0</td>\n",
       "    </tr>\n",
       "    <tr>\n",
       "      <th>4</th>\n",
       "      <td>5</td>\n",
       "      <td>4418717</td>\n",
       "      <td>13025</td>\n",
       "      <td>515</td>\n",
       "      <td>-0.1</td>\n",
       "      <td>flat_race</td>\n",
       "      <td>A6</td>\n",
       "      <td>2342199</td>\n",
       "      <td>6</td>\n",
       "      <td>31.70</td>\n",
       "      <td>4.0</td>\n",
       "      <td>EP,CrdRnUp&amp;1&amp; 1/4&amp;3&amp;4</td>\n",
       "      <td>3</td>\n",
       "      <td>34.00</td>\n",
       "      <td>0</td>\n",
       "      <td>2019-01-01</td>\n",
       "      <td>31.70</td>\n",
       "      <td>0</td>\n",
       "    </tr>\n",
       "  </tbody>\n",
       "</table>\n",
       "</div>"
      ],
      "text/plain": [
       "   Unnamed: 0  race_id  stadium_id  distance_m  going  race_type race_grade  \\\n",
       "0           1  4418717       13025         515   -0.1  flat_race         A6   \n",
       "1           2  4418717       13025         515   -0.1  flat_race         A6   \n",
       "2           3  4418717       13025         515   -0.1  flat_race         A6   \n",
       "3           4  4418717       13025         515   -0.1  flat_race         A6   \n",
       "4           5  4418717       13025         515   -0.1  flat_race         A6   \n",
       "\n",
       "    dog_id  place   time  decimal_price                comment  box     kg  \\\n",
       "0  2176330      4  31.41           11.0       BadlyBlkVW1,Crd3    5  27.75   \n",
       "1  2207348      3  31.33            7.0   CrdRnUp&1,Led2To 3/4    1  31.25   \n",
       "2  2216661      5  31.49            7.0     BadlyBlkWide1,Blk3    6  28.50   \n",
       "3  2338001      2  31.31            3.5  SAw,BBlk 1/4,Crowded3    4  35.50   \n",
       "4  2342199      6  31.70            4.0  EP,CrdRnUp&1& 1/4&3&4    3  34.00   \n",
       "\n",
       "   winner         dt  origTime  dnf  \n",
       "0       0 2019-01-01     31.41    0  \n",
       "1       0 2019-01-01     31.33    0  \n",
       "2       0 2019-01-01     31.49    0  \n",
       "3       0 2019-01-01     31.31    0  \n",
       "4       0 2019-01-01     31.70    0  "
      ]
     },
     "execution_count": 39,
     "metadata": {},
     "output_type": "execute_result"
    }
   ],
   "source": [
    "df.head()"
   ]
  },
  {
   "cell_type": "code",
   "execution_count": 3,
   "id": "utility-watch",
   "metadata": {},
   "outputs": [],
   "source": [
    "dups = df.groupby('race_id').box.agg(lambda x : len(x)-x.nunique())\n",
    "dups = dups.loc[dups>0]\n",
    "\n",
    "df = df.loc[~df.race_id.isin(dups.index)].copy()\n",
    "\n",
    "win_choice = df.loc[df.winner == 1].sample(frac = 1.0).groupby('race_id').head(1).loc[:,['race_id','box']].copy()\n",
    "win_choice['twinner'] = 1\n",
    "\n",
    "dfm = df.merge(win_choice, on = ['race_id','box'], how = 'left')\n",
    "dfm.twinner = dfm.twinner.fillna(0)\n",
    "dfm = dfm.sort_values(['race_id','box'])\n",
    "\n",
    "dfm = dfm.sort_values('dt')"
   ]
  },
  {
   "cell_type": "code",
   "execution_count": 4,
   "id": "essential-storm",
   "metadata": {},
   "outputs": [],
   "source": [
    "# defining mmps and avg_mmps for each dog\n",
    "startupTIME = 1.75\n",
    "distDEFAULT = 400\n",
    "distEXPONENT = 0.11\n",
    "dfm['mps'] = dfm.time - startupTIME\n",
    "dfm['mmps'] = dfm.distance_m/dfm.mps * (dfm.distance_m**distEXPONENT)/(distDEFAULT**distEXPONENT)"
   ]
  },
  {
   "cell_type": "code",
   "execution_count": 5,
   "id": "prerequisite-wells",
   "metadata": {},
   "outputs": [],
   "source": [
    "dfm['Unnamed: 0'] = dfm.index"
   ]
  },
  {
   "cell_type": "code",
   "execution_count": 6,
   "id": "hawaiian-indianapolis",
   "metadata": {},
   "outputs": [],
   "source": [
    "# calculating avg mmps and weighted average mmps (using a halflife of 5 races)\n",
    "dfm['avgmmps'] = dfm.groupby('dog_id').mmps.apply(lambda x: x.shift().expanding().mean())\n",
    "dfm['mmps_ema'] = dfm.groupby('dog_id').mmps.apply(lambda x: x.ewm(halflife = 5).mean().shift())"
   ]
  },
  {
   "cell_type": "code",
   "execution_count": null,
   "id": "acknowledged-completion",
   "metadata": {},
   "outputs": [],
   "source": [
    "# alternate mmps_ema using days instead of races\n",
    "group = dfm.groupby('dog_id').apply(lambda x: x.mmps.ewm(halflife = pd.Timedelta(10,unit = 'Days'), \n",
    "                                                         times = x.dt).mean().shift(1,fill_value=0)).reset_index()\n",
    "group = group.rename(columns={'level_1': 'Unnamed: 0', 'mmps': 'mmps_ema'})\n",
    "dfm = dfm.merge(group, on = ['dog_id', 'Unnamed: 0'])"
   ]
  },
  {
   "cell_type": "code",
   "execution_count": 7,
   "id": "coated-requirement",
   "metadata": {},
   "outputs": [],
   "source": [
    "dfm = pd.get_dummies(dfm, columns = ['stadium_id'])"
   ]
  },
  {
   "cell_type": "code",
   "execution_count": 8,
   "id": "healthy-warner",
   "metadata": {},
   "outputs": [],
   "source": [
    "# for 2.b - adding indicators for stadium_id\n",
    "cols = dfm.columns[dfm.columns.str.contains('stadium_id')]\n",
    "stadium_ema = dfm.groupby('dog_id')[cols].apply(lambda x: x.ewm(halflife = 5).mean().shift())"
   ]
  },
  {
   "cell_type": "code",
   "execution_count": 9,
   "id": "hungry-starter",
   "metadata": {},
   "outputs": [],
   "source": [
    "dfm_ind = dfm.copy()\n",
    "dfm_ind[cols] = dfm[cols] - stadium_ema[cols]"
   ]
  },
  {
   "cell_type": "code",
   "execution_count": 10,
   "id": "rental-finnish",
   "metadata": {},
   "outputs": [],
   "source": [
    "# for 3 - adding indicators for certain comments\n",
    "dfm_ind['Blk'] = np.where(dfm_ind.comment.str.contains('Blk|Baulk|Baulked'), 1, 0)\n",
    "dfm_ind['Bmp'] = np.where(dfm_ind.comment.str.contains('Bmp|Bumped'), 1, 0)\n",
    "dfm_ind['Stb'] = np.where(dfm_ind.comment.str.contains('Stb|Stumbled'), 1, 0)\n",
    "dfm_ind['QAw'] = np.where(dfm_ind.comment.str.contains('QAw|QAway|QuickAway'), 1, 0)\n",
    "dfm_ind['Ld'] = np.where(dfm_ind.comment.str.contains('Ld|Led'), 1, 0)\n",
    "dfm_ind['Amp'] = dfm_ind.comment.str.count('&')\n",
    "\n",
    "dfm_ind['Blk_ema'] = dfm_ind.groupby('dog_id').Blk.apply(lambda x: x.ewm(halflife = 5).mean().shift())\n",
    "dfm_ind['Bmp_ema'] = dfm_ind.groupby('dog_id').Bmp.apply(lambda x: x.ewm(halflife = 5).mean().shift())\n",
    "dfm_ind['Stb_ema'] = dfm_ind.groupby('dog_id').Stb.apply(lambda x: x.ewm(halflife = 5).mean().shift())\n",
    "dfm_ind['QAw_ema'] = dfm_ind.groupby('dog_id').QAw.apply(lambda x: x.ewm(halflife = 5).mean().shift())\n",
    "dfm_ind['Ld_ema'] = dfm_ind.groupby('dog_id').Ld.apply(lambda x: x.ewm(halflife = 5).mean().shift())\n",
    "dfm_ind['Amp_ema'] = dfm_ind.groupby('dog_id').Amp.apply(lambda x: x.ewm(halflife = 5).mean().shift())"
   ]
  },
  {
   "cell_type": "code",
   "execution_count": 11,
   "id": "unique-cassette",
   "metadata": {},
   "outputs": [],
   "source": [
    "# filtering out races with less than 4 dogs\n",
    "flattrack = dfm_ind.groupby('race_id').dog_id.agg(lambda x: x.count())\n",
    "flattrack = flattrack.loc[flattrack >= 4]\n",
    "dfmf = dfm_ind.loc[dfm_ind.race_id.isin(flattrack.index)].copy()"
   ]
  },
  {
   "cell_type": "code",
   "execution_count": 12,
   "id": "distant-jacob",
   "metadata": {},
   "outputs": [],
   "source": [
    "# add column to count number of prior races for each dog\n",
    "dfmf['prior_races'] = dfmf.groupby('dog_id').cumcount()"
   ]
  },
  {
   "cell_type": "code",
   "execution_count": 13,
   "id": "aging-spectrum",
   "metadata": {},
   "outputs": [],
   "source": [
    "# filter out races where all dogs did not have at least 3 prior races\n",
    "priors = dfmf[dfmf['prior_races'] >= 3].groupby('race_id').prior_races.count()/dfmf.groupby('race_id').prior_races.count()\n",
    "priors = priors.loc[priors == 1]\n",
    "dfmfp = dfmf.loc[dfmf.race_id.isin(priors.index)].copy()"
   ]
  },
  {
   "cell_type": "code",
   "execution_count": 14,
   "id": "intellectual-cincinnati",
   "metadata": {},
   "outputs": [],
   "source": [
    "# create column with date of last race run by that dog\n",
    "dfmfp['last_race'] = dfmfp.groupby('dog_id').dt.shift()"
   ]
  },
  {
   "cell_type": "code",
   "execution_count": 15,
   "id": "integral-gender",
   "metadata": {},
   "outputs": [],
   "source": [
    "# filter out races where all dogs have not run a race in the past 90 days\n",
    "ninety = dfmfp.loc[dfmfp.dt > dfmfp.last_race + timedelta(90)].race_id.unique()\n",
    "df_final = dfmfp.loc[~dfmfp.race_id.isin(ninety)].copy()"
   ]
  },
  {
   "cell_type": "code",
   "execution_count": 40,
   "id": "suspected-precipitation",
   "metadata": {},
   "outputs": [],
   "source": [
    "train = df_final[df_final.dt.between('2019-07-01','2019-11-30')]\n",
    "test = df_final[df_final.dt.between('2019-12-01','2020-01-31')]"
   ]
  },
  {
   "cell_type": "code",
   "execution_count": 78,
   "id": "mediterranean-composer",
   "metadata": {},
   "outputs": [],
   "source": [
    "# 2.a.i\n",
    "model1 = smf.ols('mmps ~ mmps_ema', data = train).fit()"
   ]
  },
  {
   "cell_type": "code",
   "execution_count": 23,
   "id": "dynamic-lawyer",
   "metadata": {},
   "outputs": [
    {
     "data": {
      "text/html": [
       "<table class=\"simpletable\">\n",
       "<caption>OLS Regression Results</caption>\n",
       "<tr>\n",
       "  <th>Dep. Variable:</th>          <td>mmps</td>       <th>  R-squared:         </th> <td>   0.743</td> \n",
       "</tr>\n",
       "<tr>\n",
       "  <th>Model:</th>                   <td>OLS</td>       <th>  Adj. R-squared:    </th> <td>   0.743</td> \n",
       "</tr>\n",
       "<tr>\n",
       "  <th>Method:</th>             <td>Least Squares</td>  <th>  F-statistic:       </th> <td>2.479e+05</td>\n",
       "</tr>\n",
       "<tr>\n",
       "  <th>Date:</th>             <td>Thu, 29 Apr 2021</td> <th>  Prob (F-statistic):</th>  <td>  0.00</td>  \n",
       "</tr>\n",
       "<tr>\n",
       "  <th>Time:</th>                 <td>14:20:46</td>     <th>  Log-Likelihood:    </th> <td> -10326.</td> \n",
       "</tr>\n",
       "<tr>\n",
       "  <th>No. Observations:</th>      <td> 85714</td>      <th>  AIC:               </th> <td>2.066e+04</td>\n",
       "</tr>\n",
       "<tr>\n",
       "  <th>Df Residuals:</th>          <td> 85712</td>      <th>  BIC:               </th> <td>2.068e+04</td>\n",
       "</tr>\n",
       "<tr>\n",
       "  <th>Df Model:</th>              <td>     1</td>      <th>                     </th>     <td> </td>    \n",
       "</tr>\n",
       "<tr>\n",
       "  <th>Covariance Type:</th>      <td>nonrobust</td>    <th>                     </th>     <td> </td>    \n",
       "</tr>\n",
       "</table>\n",
       "<table class=\"simpletable\">\n",
       "<tr>\n",
       "      <td></td>         <th>coef</th>     <th>std err</th>      <th>t</th>      <th>P>|t|</th>  <th>[0.025</th>    <th>0.975]</th>  \n",
       "</tr>\n",
       "<tr>\n",
       "  <th>Intercept</th> <td>    0.4990</td> <td>    0.034</td> <td>   14.731</td> <td> 0.000</td> <td>    0.433</td> <td>    0.565</td>\n",
       "</tr>\n",
       "<tr>\n",
       "  <th>mmps_ema</th>  <td>    0.9715</td> <td>    0.002</td> <td>  497.944</td> <td> 0.000</td> <td>    0.968</td> <td>    0.975</td>\n",
       "</tr>\n",
       "</table>\n",
       "<table class=\"simpletable\">\n",
       "<tr>\n",
       "  <th>Omnibus:</th>       <td>8939.881</td> <th>  Durbin-Watson:     </th> <td>   1.438</td> \n",
       "</tr>\n",
       "<tr>\n",
       "  <th>Prob(Omnibus):</th>  <td> 0.000</td>  <th>  Jarque-Bera (JB):  </th> <td>28894.722</td>\n",
       "</tr>\n",
       "<tr>\n",
       "  <th>Skew:</th>           <td>-0.536</td>  <th>  Prob(JB):          </th> <td>    0.00</td> \n",
       "</tr>\n",
       "<tr>\n",
       "  <th>Kurtosis:</th>       <td> 5.634</td>  <th>  Cond. No.          </th> <td>    633.</td> \n",
       "</tr>\n",
       "</table><br/><br/>Notes:<br/>[1] Standard Errors assume that the covariance matrix of the errors is correctly specified."
      ],
      "text/plain": [
       "<class 'statsmodels.iolib.summary.Summary'>\n",
       "\"\"\"\n",
       "                            OLS Regression Results                            \n",
       "==============================================================================\n",
       "Dep. Variable:                   mmps   R-squared:                       0.743\n",
       "Model:                            OLS   Adj. R-squared:                  0.743\n",
       "Method:                 Least Squares   F-statistic:                 2.479e+05\n",
       "Date:                Thu, 29 Apr 2021   Prob (F-statistic):               0.00\n",
       "Time:                        14:20:46   Log-Likelihood:                -10326.\n",
       "No. Observations:               85714   AIC:                         2.066e+04\n",
       "Df Residuals:                   85712   BIC:                         2.068e+04\n",
       "Df Model:                           1                                         \n",
       "Covariance Type:            nonrobust                                         \n",
       "==============================================================================\n",
       "                 coef    std err          t      P>|t|      [0.025      0.975]\n",
       "------------------------------------------------------------------------------\n",
       "Intercept      0.4990      0.034     14.731      0.000       0.433       0.565\n",
       "mmps_ema       0.9715      0.002    497.944      0.000       0.968       0.975\n",
       "==============================================================================\n",
       "Omnibus:                     8939.881   Durbin-Watson:                   1.438\n",
       "Prob(Omnibus):                  0.000   Jarque-Bera (JB):            28894.722\n",
       "Skew:                          -0.536   Prob(JB):                         0.00\n",
       "Kurtosis:                       5.634   Cond. No.                         633.\n",
       "==============================================================================\n",
       "\n",
       "Notes:\n",
       "[1] Standard Errors assume that the covariance matrix of the errors is correctly specified.\n",
       "\"\"\""
      ]
     },
     "execution_count": 23,
     "metadata": {},
     "output_type": "execute_result"
    }
   ],
   "source": [
    "model1.summary()"
   ]
  },
  {
   "cell_type": "code",
   "execution_count": 25,
   "id": "compliant-budget",
   "metadata": {},
   "outputs": [],
   "source": [
    "ytrue = test.mmps\n",
    "ypred = model1.predict(test)"
   ]
  },
  {
   "cell_type": "code",
   "execution_count": 26,
   "id": "eleven-cookbook",
   "metadata": {},
   "outputs": [
    {
     "name": "stdout",
     "output_type": "stream",
     "text": [
      "Mean squared error on games between 12/01/2019 and 01/31/2020: 0.07265294834042432\n"
     ]
    }
   ],
   "source": [
    "# 2.a.ii.\n",
    "print('Mean squared error on games between 12/01/2019 and 01/31/2020:', mean_squared_error(ytrue, ypred))"
   ]
  },
  {
   "cell_type": "code",
   "execution_count": 142,
   "id": "polish-expansion",
   "metadata": {},
   "outputs": [],
   "source": [
    "model_cols = '+'.join(train[cols].columns)\n",
    "formula = 'mmps ~ mmps_ema +' + model_cols"
   ]
  },
  {
   "cell_type": "code",
   "execution_count": 140,
   "id": "motivated-graduate",
   "metadata": {},
   "outputs": [],
   "source": [
    "# 2.b.i\n",
    "model2 = smf.ols(formula = formula, data = train).fit()"
   ]
  },
  {
   "cell_type": "code",
   "execution_count": 141,
   "id": "understanding-hindu",
   "metadata": {},
   "outputs": [
    {
     "data": {
      "text/html": [
       "<table class=\"simpletable\">\n",
       "<caption>OLS Regression Results</caption>\n",
       "<tr>\n",
       "  <th>Dep. Variable:</th>          <td>mmps</td>       <th>  R-squared:         </th> <td>   0.795</td> \n",
       "</tr>\n",
       "<tr>\n",
       "  <th>Model:</th>                   <td>OLS</td>       <th>  Adj. R-squared:    </th> <td>   0.795</td> \n",
       "</tr>\n",
       "<tr>\n",
       "  <th>Method:</th>             <td>Least Squares</td>  <th>  F-statistic:       </th> <td>1.584e+04</td>\n",
       "</tr>\n",
       "<tr>\n",
       "  <th>Date:</th>             <td>Thu, 29 Apr 2021</td> <th>  Prob (F-statistic):</th>  <td>  0.00</td>  \n",
       "</tr>\n",
       "<tr>\n",
       "  <th>Time:</th>                 <td>21:40:05</td>     <th>  Log-Likelihood:    </th> <td> -633.55</td> \n",
       "</tr>\n",
       "<tr>\n",
       "  <th>No. Observations:</th>      <td> 85714</td>      <th>  AIC:               </th> <td>   1311.</td> \n",
       "</tr>\n",
       "<tr>\n",
       "  <th>Df Residuals:</th>          <td> 85692</td>      <th>  BIC:               </th> <td>   1517.</td> \n",
       "</tr>\n",
       "<tr>\n",
       "  <th>Df Model:</th>              <td>    21</td>      <th>                     </th>     <td> </td>    \n",
       "</tr>\n",
       "<tr>\n",
       "  <th>Covariance Type:</th>      <td>nonrobust</td>    <th>                     </th>     <td> </td>    \n",
       "</tr>\n",
       "</table>\n",
       "<table class=\"simpletable\">\n",
       "<tr>\n",
       "          <td></td>            <th>coef</th>     <th>std err</th>      <th>t</th>      <th>P>|t|</th>  <th>[0.025</th>    <th>0.975]</th>  \n",
       "</tr>\n",
       "<tr>\n",
       "  <th>Intercept</th>        <td>    0.3849</td> <td>    0.030</td> <td>   12.697</td> <td> 0.000</td> <td>    0.325</td> <td>    0.444</td>\n",
       "</tr>\n",
       "<tr>\n",
       "  <th>mmps_ema</th>         <td>    0.9782</td> <td>    0.002</td> <td>  560.266</td> <td> 0.000</td> <td>    0.975</td> <td>    0.982</td>\n",
       "</tr>\n",
       "<tr>\n",
       "  <th>stadium_id_13003</th> <td>   -0.0855</td> <td>    0.016</td> <td>   -5.513</td> <td> 0.000</td> <td>   -0.116</td> <td>   -0.055</td>\n",
       "</tr>\n",
       "<tr>\n",
       "  <th>stadium_id_13004</th> <td>    0.1393</td> <td>    0.011</td> <td>   12.708</td> <td> 0.000</td> <td>    0.118</td> <td>    0.161</td>\n",
       "</tr>\n",
       "<tr>\n",
       "  <th>stadium_id_13007</th> <td>   -0.5043</td> <td>    0.011</td> <td>  -43.961</td> <td> 0.000</td> <td>   -0.527</td> <td>   -0.482</td>\n",
       "</tr>\n",
       "<tr>\n",
       "  <th>stadium_id_13008</th> <td>   -0.0764</td> <td>    0.019</td> <td>   -4.007</td> <td> 0.000</td> <td>   -0.114</td> <td>   -0.039</td>\n",
       "</tr>\n",
       "<tr>\n",
       "  <th>stadium_id_13009</th> <td>   -0.2178</td> <td>    0.010</td> <td>  -22.804</td> <td> 0.000</td> <td>   -0.237</td> <td>   -0.199</td>\n",
       "</tr>\n",
       "<tr>\n",
       "  <th>stadium_id_13010</th> <td>    0.6534</td> <td>    0.011</td> <td>   61.984</td> <td> 0.000</td> <td>    0.633</td> <td>    0.674</td>\n",
       "</tr>\n",
       "<tr>\n",
       "  <th>stadium_id_13013</th> <td>    0.1920</td> <td>    0.024</td> <td>    7.907</td> <td> 0.000</td> <td>    0.144</td> <td>    0.240</td>\n",
       "</tr>\n",
       "<tr>\n",
       "  <th>stadium_id_13014</th> <td>    0.1702</td> <td>    0.015</td> <td>   11.017</td> <td> 0.000</td> <td>    0.140</td> <td>    0.200</td>\n",
       "</tr>\n",
       "<tr>\n",
       "  <th>stadium_id_13019</th> <td>   -0.1029</td> <td>    0.010</td> <td>   -9.810</td> <td> 0.000</td> <td>   -0.123</td> <td>   -0.082</td>\n",
       "</tr>\n",
       "<tr>\n",
       "  <th>stadium_id_13020</th> <td>   -0.1284</td> <td>    0.018</td> <td>   -7.279</td> <td> 0.000</td> <td>   -0.163</td> <td>   -0.094</td>\n",
       "</tr>\n",
       "<tr>\n",
       "  <th>stadium_id_13021</th> <td>   -0.0004</td> <td>    0.044</td> <td>   -0.009</td> <td> 0.992</td> <td>   -0.087</td> <td>    0.086</td>\n",
       "</tr>\n",
       "<tr>\n",
       "  <th>stadium_id_13023</th> <td>    0.1094</td> <td>    0.015</td> <td>    7.081</td> <td> 0.000</td> <td>    0.079</td> <td>    0.140</td>\n",
       "</tr>\n",
       "<tr>\n",
       "  <th>stadium_id_13025</th> <td>    0.5451</td> <td>    0.011</td> <td>   49.104</td> <td> 0.000</td> <td>    0.523</td> <td>    0.567</td>\n",
       "</tr>\n",
       "<tr>\n",
       "  <th>stadium_id_13026</th> <td>   -0.3743</td> <td>    0.010</td> <td>  -37.002</td> <td> 0.000</td> <td>   -0.394</td> <td>   -0.354</td>\n",
       "</tr>\n",
       "<tr>\n",
       "  <th>stadium_id_13035</th> <td>    0.3276</td> <td>    0.017</td> <td>   18.840</td> <td> 0.000</td> <td>    0.294</td> <td>    0.362</td>\n",
       "</tr>\n",
       "<tr>\n",
       "  <th>stadium_id_13037</th> <td>    0.3659</td> <td>    0.011</td> <td>   33.298</td> <td> 0.000</td> <td>    0.344</td> <td>    0.387</td>\n",
       "</tr>\n",
       "<tr>\n",
       "  <th>stadium_id_13043</th> <td>    0.0639</td> <td>    0.012</td> <td>    5.160</td> <td> 0.000</td> <td>    0.040</td> <td>    0.088</td>\n",
       "</tr>\n",
       "<tr>\n",
       "  <th>stadium_id_13048</th> <td>   -0.8013</td> <td>    0.011</td> <td>  -70.714</td> <td> 0.000</td> <td>   -0.824</td> <td>   -0.779</td>\n",
       "</tr>\n",
       "<tr>\n",
       "  <th>stadium_id_13053</th> <td>    0.1359</td> <td>    0.030</td> <td>    4.471</td> <td> 0.000</td> <td>    0.076</td> <td>    0.195</td>\n",
       "</tr>\n",
       "<tr>\n",
       "  <th>stadium_id_13059</th> <td>    0.1910</td> <td>    0.024</td> <td>    7.875</td> <td> 0.000</td> <td>    0.143</td> <td>    0.239</td>\n",
       "</tr>\n",
       "<tr>\n",
       "  <th>stadium_id_13061</th> <td>   -0.6025</td> <td>    0.012</td> <td>  -48.970</td> <td> 0.000</td> <td>   -0.627</td> <td>   -0.578</td>\n",
       "</tr>\n",
       "</table>\n",
       "<table class=\"simpletable\">\n",
       "<tr>\n",
       "  <th>Omnibus:</th>       <td>7933.062</td> <th>  Durbin-Watson:     </th> <td>   1.439</td> \n",
       "</tr>\n",
       "<tr>\n",
       "  <th>Prob(Omnibus):</th>  <td> 0.000</td>  <th>  Jarque-Bera (JB):  </th> <td>16123.363</td>\n",
       "</tr>\n",
       "<tr>\n",
       "  <th>Skew:</th>           <td>-0.611</td>  <th>  Prob(JB):          </th> <td>    0.00</td> \n",
       "</tr>\n",
       "<tr>\n",
       "  <th>Kurtosis:</th>       <td> 4.738</td>  <th>  Cond. No.          </th> <td>3.47e+17</td> \n",
       "</tr>\n",
       "</table><br/><br/>Notes:<br/>[1] Standard Errors assume that the covariance matrix of the errors is correctly specified.<br/>[2] The smallest eigenvalue is 2.15e-28. This might indicate that there are<br/>strong multicollinearity problems or that the design matrix is singular."
      ],
      "text/plain": [
       "<class 'statsmodels.iolib.summary.Summary'>\n",
       "\"\"\"\n",
       "                            OLS Regression Results                            \n",
       "==============================================================================\n",
       "Dep. Variable:                   mmps   R-squared:                       0.795\n",
       "Model:                            OLS   Adj. R-squared:                  0.795\n",
       "Method:                 Least Squares   F-statistic:                 1.584e+04\n",
       "Date:                Thu, 29 Apr 2021   Prob (F-statistic):               0.00\n",
       "Time:                        21:40:05   Log-Likelihood:                -633.55\n",
       "No. Observations:               85714   AIC:                             1311.\n",
       "Df Residuals:                   85692   BIC:                             1517.\n",
       "Df Model:                          21                                         \n",
       "Covariance Type:            nonrobust                                         \n",
       "====================================================================================\n",
       "                       coef    std err          t      P>|t|      [0.025      0.975]\n",
       "------------------------------------------------------------------------------------\n",
       "Intercept            0.3849      0.030     12.697      0.000       0.325       0.444\n",
       "mmps_ema             0.9782      0.002    560.266      0.000       0.975       0.982\n",
       "stadium_id_13003    -0.0855      0.016     -5.513      0.000      -0.116      -0.055\n",
       "stadium_id_13004     0.1393      0.011     12.708      0.000       0.118       0.161\n",
       "stadium_id_13007    -0.5043      0.011    -43.961      0.000      -0.527      -0.482\n",
       "stadium_id_13008    -0.0764      0.019     -4.007      0.000      -0.114      -0.039\n",
       "stadium_id_13009    -0.2178      0.010    -22.804      0.000      -0.237      -0.199\n",
       "stadium_id_13010     0.6534      0.011     61.984      0.000       0.633       0.674\n",
       "stadium_id_13013     0.1920      0.024      7.907      0.000       0.144       0.240\n",
       "stadium_id_13014     0.1702      0.015     11.017      0.000       0.140       0.200\n",
       "stadium_id_13019    -0.1029      0.010     -9.810      0.000      -0.123      -0.082\n",
       "stadium_id_13020    -0.1284      0.018     -7.279      0.000      -0.163      -0.094\n",
       "stadium_id_13021    -0.0004      0.044     -0.009      0.992      -0.087       0.086\n",
       "stadium_id_13023     0.1094      0.015      7.081      0.000       0.079       0.140\n",
       "stadium_id_13025     0.5451      0.011     49.104      0.000       0.523       0.567\n",
       "stadium_id_13026    -0.3743      0.010    -37.002      0.000      -0.394      -0.354\n",
       "stadium_id_13035     0.3276      0.017     18.840      0.000       0.294       0.362\n",
       "stadium_id_13037     0.3659      0.011     33.298      0.000       0.344       0.387\n",
       "stadium_id_13043     0.0639      0.012      5.160      0.000       0.040       0.088\n",
       "stadium_id_13048    -0.8013      0.011    -70.714      0.000      -0.824      -0.779\n",
       "stadium_id_13053     0.1359      0.030      4.471      0.000       0.076       0.195\n",
       "stadium_id_13059     0.1910      0.024      7.875      0.000       0.143       0.239\n",
       "stadium_id_13061    -0.6025      0.012    -48.970      0.000      -0.627      -0.578\n",
       "==============================================================================\n",
       "Omnibus:                     7933.062   Durbin-Watson:                   1.439\n",
       "Prob(Omnibus):                  0.000   Jarque-Bera (JB):            16123.363\n",
       "Skew:                          -0.611   Prob(JB):                         0.00\n",
       "Kurtosis:                       4.738   Cond. No.                     3.47e+17\n",
       "==============================================================================\n",
       "\n",
       "Notes:\n",
       "[1] Standard Errors assume that the covariance matrix of the errors is correctly specified.\n",
       "[2] The smallest eigenvalue is 2.15e-28. This might indicate that there are\n",
       "strong multicollinearity problems or that the design matrix is singular.\n",
       "\"\"\""
      ]
     },
     "execution_count": 141,
     "metadata": {},
     "output_type": "execute_result"
    }
   ],
   "source": [
    "model2.summary()"
   ]
  },
  {
   "cell_type": "code",
   "execution_count": 213,
   "id": "neither-pursuit",
   "metadata": {},
   "outputs": [],
   "source": [
    "ytrue = test.mmps\n",
    "ypred = model2.predict(test)"
   ]
  },
  {
   "cell_type": "code",
   "execution_count": 214,
   "id": "consolidated-rhythm",
   "metadata": {},
   "outputs": [
    {
     "name": "stdout",
     "output_type": "stream",
     "text": [
      "Mean squared error on games between 12/01/2019 and 01/31/2020: 0.06470119367888517\n"
     ]
    }
   ],
   "source": [
    "# 2.b.ii.\n",
    "print('Mean squared error on games between 12/01/2019 and 01/31/2020:', mean_squared_error(ytrue, ypred))"
   ]
  },
  {
   "cell_type": "code",
   "execution_count": 41,
   "id": "pregnant-atmosphere",
   "metadata": {},
   "outputs": [],
   "source": [
    "# 3.a.\n",
    "com_cols = 'Blk_ema + Bmp_ema + Stb_ema + QAw_ema + Ld_ema + Amp_ema'\n",
    "stad_cols = '+'.join(train[cols].columns)\n",
    "formula = 'mmps ~ mmps_ema +' + stad_cols + '+' + com_cols"
   ]
  },
  {
   "cell_type": "code",
   "execution_count": 42,
   "id": "93686eae",
   "metadata": {},
   "outputs": [],
   "source": [
    "model3 = smf.ols(formula = formula, data = train).fit()"
   ]
  },
  {
   "cell_type": "code",
   "execution_count": 43,
   "id": "5476118a",
   "metadata": {},
   "outputs": [
    {
     "data": {
      "text/html": [
       "<table class=\"simpletable\">\n",
       "<caption>OLS Regression Results</caption>\n",
       "<tr>\n",
       "  <th>Dep. Variable:</th>          <td>mmps</td>       <th>  R-squared:         </th> <td>   0.797</td> \n",
       "</tr>\n",
       "<tr>\n",
       "  <th>Model:</th>                   <td>OLS</td>       <th>  Adj. R-squared:    </th> <td>   0.797</td> \n",
       "</tr>\n",
       "<tr>\n",
       "  <th>Method:</th>             <td>Least Squares</td>  <th>  F-statistic:       </th> <td>1.244e+04</td>\n",
       "</tr>\n",
       "<tr>\n",
       "  <th>Date:</th>             <td>Mon, 10 May 2021</td> <th>  Prob (F-statistic):</th>  <td>  0.00</td>  \n",
       "</tr>\n",
       "<tr>\n",
       "  <th>Time:</th>                 <td>20:13:31</td>     <th>  Log-Likelihood:    </th> <td> -283.44</td> \n",
       "</tr>\n",
       "<tr>\n",
       "  <th>No. Observations:</th>      <td> 85714</td>      <th>  AIC:               </th> <td>   622.9</td> \n",
       "</tr>\n",
       "<tr>\n",
       "  <th>Df Residuals:</th>          <td> 85686</td>      <th>  BIC:               </th> <td>   884.9</td> \n",
       "</tr>\n",
       "<tr>\n",
       "  <th>Df Model:</th>              <td>    27</td>      <th>                     </th>     <td> </td>    \n",
       "</tr>\n",
       "<tr>\n",
       "  <th>Covariance Type:</th>      <td>nonrobust</td>    <th>                     </th>     <td> </td>    \n",
       "</tr>\n",
       "</table>\n",
       "<table class=\"simpletable\">\n",
       "<tr>\n",
       "          <td></td>            <th>coef</th>     <th>std err</th>      <th>t</th>      <th>P>|t|</th>  <th>[0.025</th>    <th>0.975]</th>  \n",
       "</tr>\n",
       "<tr>\n",
       "  <th>Intercept</th>        <td>    0.2264</td> <td>    0.032</td> <td>    6.985</td> <td> 0.000</td> <td>    0.163</td> <td>    0.290</td>\n",
       "</tr>\n",
       "<tr>\n",
       "  <th>mmps_ema</th>         <td>    0.9862</td> <td>    0.002</td> <td>  530.621</td> <td> 0.000</td> <td>    0.983</td> <td>    0.990</td>\n",
       "</tr>\n",
       "<tr>\n",
       "  <th>stadium_id_13003</th> <td>   -0.0874</td> <td>    0.015</td> <td>   -5.658</td> <td> 0.000</td> <td>   -0.118</td> <td>   -0.057</td>\n",
       "</tr>\n",
       "<tr>\n",
       "  <th>stadium_id_13004</th> <td>    0.1434</td> <td>    0.011</td> <td>   13.132</td> <td> 0.000</td> <td>    0.122</td> <td>    0.165</td>\n",
       "</tr>\n",
       "<tr>\n",
       "  <th>stadium_id_13007</th> <td>   -0.5043</td> <td>    0.011</td> <td>  -44.134</td> <td> 0.000</td> <td>   -0.527</td> <td>   -0.482</td>\n",
       "</tr>\n",
       "<tr>\n",
       "  <th>stadium_id_13008</th> <td>   -0.0771</td> <td>    0.019</td> <td>   -4.058</td> <td> 0.000</td> <td>   -0.114</td> <td>   -0.040</td>\n",
       "</tr>\n",
       "<tr>\n",
       "  <th>stadium_id_13009</th> <td>   -0.2161</td> <td>    0.010</td> <td>  -22.718</td> <td> 0.000</td> <td>   -0.235</td> <td>   -0.197</td>\n",
       "</tr>\n",
       "<tr>\n",
       "  <th>stadium_id_13010</th> <td>    0.6531</td> <td>    0.011</td> <td>   62.202</td> <td> 0.000</td> <td>    0.633</td> <td>    0.674</td>\n",
       "</tr>\n",
       "<tr>\n",
       "  <th>stadium_id_13013</th> <td>    0.1967</td> <td>    0.024</td> <td>    8.134</td> <td> 0.000</td> <td>    0.149</td> <td>    0.244</td>\n",
       "</tr>\n",
       "<tr>\n",
       "  <th>stadium_id_13014</th> <td>    0.1663</td> <td>    0.015</td> <td>   10.806</td> <td> 0.000</td> <td>    0.136</td> <td>    0.196</td>\n",
       "</tr>\n",
       "<tr>\n",
       "  <th>stadium_id_13019</th> <td>   -0.1029</td> <td>    0.010</td> <td>   -9.848</td> <td> 0.000</td> <td>   -0.123</td> <td>   -0.082</td>\n",
       "</tr>\n",
       "<tr>\n",
       "  <th>stadium_id_13020</th> <td>   -0.1258</td> <td>    0.018</td> <td>   -7.163</td> <td> 0.000</td> <td>   -0.160</td> <td>   -0.091</td>\n",
       "</tr>\n",
       "<tr>\n",
       "  <th>stadium_id_13021</th> <td>   -0.0070</td> <td>    0.044</td> <td>   -0.160</td> <td> 0.873</td> <td>   -0.093</td> <td>    0.079</td>\n",
       "</tr>\n",
       "<tr>\n",
       "  <th>stadium_id_13023</th> <td>    0.1080</td> <td>    0.015</td> <td>    7.013</td> <td> 0.000</td> <td>    0.078</td> <td>    0.138</td>\n",
       "</tr>\n",
       "<tr>\n",
       "  <th>stadium_id_13025</th> <td>    0.5494</td> <td>    0.011</td> <td>   49.686</td> <td> 0.000</td> <td>    0.528</td> <td>    0.571</td>\n",
       "</tr>\n",
       "<tr>\n",
       "  <th>stadium_id_13026</th> <td>   -0.3730</td> <td>    0.010</td> <td>  -37.014</td> <td> 0.000</td> <td>   -0.393</td> <td>   -0.353</td>\n",
       "</tr>\n",
       "<tr>\n",
       "  <th>stadium_id_13035</th> <td>    0.3229</td> <td>    0.017</td> <td>   18.642</td> <td> 0.000</td> <td>    0.289</td> <td>    0.357</td>\n",
       "</tr>\n",
       "<tr>\n",
       "  <th>stadium_id_13037</th> <td>    0.3655</td> <td>    0.011</td> <td>   33.395</td> <td> 0.000</td> <td>    0.344</td> <td>    0.387</td>\n",
       "</tr>\n",
       "<tr>\n",
       "  <th>stadium_id_13043</th> <td>    0.0654</td> <td>    0.012</td> <td>    5.306</td> <td> 0.000</td> <td>    0.041</td> <td>    0.090</td>\n",
       "</tr>\n",
       "<tr>\n",
       "  <th>stadium_id_13048</th> <td>   -0.8017</td> <td>    0.011</td> <td>  -71.023</td> <td> 0.000</td> <td>   -0.824</td> <td>   -0.780</td>\n",
       "</tr>\n",
       "<tr>\n",
       "  <th>stadium_id_13053</th> <td>    0.1378</td> <td>    0.030</td> <td>    4.552</td> <td> 0.000</td> <td>    0.078</td> <td>    0.197</td>\n",
       "</tr>\n",
       "<tr>\n",
       "  <th>stadium_id_13059</th> <td>    0.1890</td> <td>    0.024</td> <td>    7.821</td> <td> 0.000</td> <td>    0.142</td> <td>    0.236</td>\n",
       "</tr>\n",
       "<tr>\n",
       "  <th>stadium_id_13061</th> <td>   -0.6023</td> <td>    0.012</td> <td>  -49.152</td> <td> 0.000</td> <td>   -0.626</td> <td>   -0.578</td>\n",
       "</tr>\n",
       "<tr>\n",
       "  <th>Blk_ema</th>          <td>    0.0645</td> <td>    0.008</td> <td>    7.931</td> <td> 0.000</td> <td>    0.049</td> <td>    0.081</td>\n",
       "</tr>\n",
       "<tr>\n",
       "  <th>Bmp_ema</th>          <td>    0.0495</td> <td>    0.005</td> <td>    9.035</td> <td> 0.000</td> <td>    0.039</td> <td>    0.060</td>\n",
       "</tr>\n",
       "<tr>\n",
       "  <th>Stb_ema</th>          <td>    0.1524</td> <td>    0.030</td> <td>    5.052</td> <td> 0.000</td> <td>    0.093</td> <td>    0.212</td>\n",
       "</tr>\n",
       "<tr>\n",
       "  <th>QAw_ema</th>          <td>   -0.0600</td> <td>    0.007</td> <td>   -9.018</td> <td> 0.000</td> <td>   -0.073</td> <td>   -0.047</td>\n",
       "</tr>\n",
       "<tr>\n",
       "  <th>Ld_ema</th>           <td>    0.0015</td> <td>    0.005</td> <td>    0.305</td> <td> 0.760</td> <td>   -0.008</td> <td>    0.011</td>\n",
       "</tr>\n",
       "<tr>\n",
       "  <th>Amp_ema</th>          <td>    0.0880</td> <td>    0.005</td> <td>   16.073</td> <td> 0.000</td> <td>    0.077</td> <td>    0.099</td>\n",
       "</tr>\n",
       "</table>\n",
       "<table class=\"simpletable\">\n",
       "<tr>\n",
       "  <th>Omnibus:</th>       <td>7815.450</td> <th>  Durbin-Watson:     </th> <td>   1.439</td> \n",
       "</tr>\n",
       "<tr>\n",
       "  <th>Prob(Omnibus):</th>  <td> 0.000</td>  <th>  Jarque-Bera (JB):  </th> <td>15690.583</td>\n",
       "</tr>\n",
       "<tr>\n",
       "  <th>Skew:</th>           <td>-0.607</td>  <th>  Prob(JB):          </th> <td>    0.00</td> \n",
       "</tr>\n",
       "<tr>\n",
       "  <th>Kurtosis:</th>       <td> 4.708</td>  <th>  Cond. No.          </th> <td>1.00e+16</td> \n",
       "</tr>\n",
       "</table><br/><br/>Notes:<br/>[1] Standard Errors assume that the covariance matrix of the errors is correctly specified.<br/>[2] The smallest eigenvalue is 2.58e-25. This might indicate that there are<br/>strong multicollinearity problems or that the design matrix is singular."
      ],
      "text/plain": [
       "<class 'statsmodels.iolib.summary.Summary'>\n",
       "\"\"\"\n",
       "                            OLS Regression Results                            \n",
       "==============================================================================\n",
       "Dep. Variable:                   mmps   R-squared:                       0.797\n",
       "Model:                            OLS   Adj. R-squared:                  0.797\n",
       "Method:                 Least Squares   F-statistic:                 1.244e+04\n",
       "Date:                Mon, 10 May 2021   Prob (F-statistic):               0.00\n",
       "Time:                        20:13:31   Log-Likelihood:                -283.44\n",
       "No. Observations:               85714   AIC:                             622.9\n",
       "Df Residuals:                   85686   BIC:                             884.9\n",
       "Df Model:                          27                                         \n",
       "Covariance Type:            nonrobust                                         \n",
       "====================================================================================\n",
       "                       coef    std err          t      P>|t|      [0.025      0.975]\n",
       "------------------------------------------------------------------------------------\n",
       "Intercept            0.2264      0.032      6.985      0.000       0.163       0.290\n",
       "mmps_ema             0.9862      0.002    530.621      0.000       0.983       0.990\n",
       "stadium_id_13003    -0.0874      0.015     -5.658      0.000      -0.118      -0.057\n",
       "stadium_id_13004     0.1434      0.011     13.132      0.000       0.122       0.165\n",
       "stadium_id_13007    -0.5043      0.011    -44.134      0.000      -0.527      -0.482\n",
       "stadium_id_13008    -0.0771      0.019     -4.058      0.000      -0.114      -0.040\n",
       "stadium_id_13009    -0.2161      0.010    -22.718      0.000      -0.235      -0.197\n",
       "stadium_id_13010     0.6531      0.011     62.202      0.000       0.633       0.674\n",
       "stadium_id_13013     0.1967      0.024      8.134      0.000       0.149       0.244\n",
       "stadium_id_13014     0.1663      0.015     10.806      0.000       0.136       0.196\n",
       "stadium_id_13019    -0.1029      0.010     -9.848      0.000      -0.123      -0.082\n",
       "stadium_id_13020    -0.1258      0.018     -7.163      0.000      -0.160      -0.091\n",
       "stadium_id_13021    -0.0070      0.044     -0.160      0.873      -0.093       0.079\n",
       "stadium_id_13023     0.1080      0.015      7.013      0.000       0.078       0.138\n",
       "stadium_id_13025     0.5494      0.011     49.686      0.000       0.528       0.571\n",
       "stadium_id_13026    -0.3730      0.010    -37.014      0.000      -0.393      -0.353\n",
       "stadium_id_13035     0.3229      0.017     18.642      0.000       0.289       0.357\n",
       "stadium_id_13037     0.3655      0.011     33.395      0.000       0.344       0.387\n",
       "stadium_id_13043     0.0654      0.012      5.306      0.000       0.041       0.090\n",
       "stadium_id_13048    -0.8017      0.011    -71.023      0.000      -0.824      -0.780\n",
       "stadium_id_13053     0.1378      0.030      4.552      0.000       0.078       0.197\n",
       "stadium_id_13059     0.1890      0.024      7.821      0.000       0.142       0.236\n",
       "stadium_id_13061    -0.6023      0.012    -49.152      0.000      -0.626      -0.578\n",
       "Blk_ema              0.0645      0.008      7.931      0.000       0.049       0.081\n",
       "Bmp_ema              0.0495      0.005      9.035      0.000       0.039       0.060\n",
       "Stb_ema              0.1524      0.030      5.052      0.000       0.093       0.212\n",
       "QAw_ema             -0.0600      0.007     -9.018      0.000      -0.073      -0.047\n",
       "Ld_ema               0.0015      0.005      0.305      0.760      -0.008       0.011\n",
       "Amp_ema              0.0880      0.005     16.073      0.000       0.077       0.099\n",
       "==============================================================================\n",
       "Omnibus:                     7815.450   Durbin-Watson:                   1.439\n",
       "Prob(Omnibus):                  0.000   Jarque-Bera (JB):            15690.583\n",
       "Skew:                          -0.607   Prob(JB):                         0.00\n",
       "Kurtosis:                       4.708   Cond. No.                     1.00e+16\n",
       "==============================================================================\n",
       "\n",
       "Notes:\n",
       "[1] Standard Errors assume that the covariance matrix of the errors is correctly specified.\n",
       "[2] The smallest eigenvalue is 2.58e-25. This might indicate that there are\n",
       "strong multicollinearity problems or that the design matrix is singular.\n",
       "\"\"\""
      ]
     },
     "execution_count": 43,
     "metadata": {},
     "output_type": "execute_result"
    }
   ],
   "source": [
    "model3.summary()"
   ]
  },
  {
   "cell_type": "code",
   "execution_count": 44,
   "id": "final-treasure",
   "metadata": {},
   "outputs": [],
   "source": [
    "ytrue = test.mmps\n",
    "ypred = model3.predict(test)"
   ]
  },
  {
   "cell_type": "code",
   "execution_count": 216,
   "id": "ideal-gardening",
   "metadata": {},
   "outputs": [
    {
     "name": "stdout",
     "output_type": "stream",
     "text": [
      "Mean squared error on games between 12/01/2019 and 01/31/2020: 0.06455910011979972\n"
     ]
    }
   ],
   "source": [
    "# 3.b.\n",
    "print('Mean squared error on games between 12/01/2019 and 01/31/2020:', mean_squared_error(ytrue, ypred))"
   ]
  },
  {
   "cell_type": "code",
   "execution_count": 16,
   "id": "orange-module",
   "metadata": {},
   "outputs": [],
   "source": [
    "def mlogit(formula, df, obs_id, alt_id) :\n",
    "    \"\"\"\n",
    "    df must be sorted by obs_id to use this function\n",
    "    \"\"\"\n",
    "    from patsy import dmatrices\n",
    "    from collections import OrderedDict\n",
    "    import pylogit as pl\n",
    "    import numpy as np\n",
    "    data = dmatrices(formula+' -1', df, return_type = \"dataframe\")\n",
    "    all_alts = sorted(df.loc[:,alt_id].unique())\n",
    "    \n",
    "    spec = OrderedDict()\n",
    "    names = OrderedDict()\n",
    "    spec['intercept'] = all_alts[1:]\n",
    "    names['intercept'] = [f'(Intercept):{alt}' for alt in all_alts[1:]]\n",
    "    c_names = data[1].design_info.column_names\n",
    "    choice = data[0].design_info.column_names[0]\n",
    "    data[1][choice] = data[0]\n",
    "    data[1][[obs_id,alt_id]] = df[[obs_id,alt_id]]    \n",
    "    for c in c_names :\n",
    "        spec[c] = [all_alts]\n",
    "        names[c] = [c]\n",
    "    model = pl.create_choice_model(data = data[1], alt_id_col = alt_id, obs_id_col = obs_id, \n",
    "                                   choice_col = choice, specification = spec, names = names, model_type = 'MNL')\n",
    "    model.fit_mle(np.zeros(model.design.shape[1]), method = 'Powell')\n",
    "    return model"
   ]
  },
  {
   "cell_type": "code",
   "execution_count": 157,
   "id": "b17c44dc",
   "metadata": {},
   "outputs": [],
   "source": [
    "# 4.a.i.\n",
    "# making mmps predictions on whole dataset and adding as a feature for new twinner model\n",
    "mmps_forecast = model3.predict(df_final)\n",
    "df_final4 = df_final.copy()\n",
    "df_final4['mmps_forecast'] = mmps_forecast"
   ]
  },
  {
   "cell_type": "code",
   "execution_count": 158,
   "id": "7bb4a2f8",
   "metadata": {},
   "outputs": [],
   "source": [
    "# shifted decimal price and going\n",
    "df_final4['decimal_shift'] = df_final4.groupby('dog_id').decimal_price.apply(lambda x: x.ewm(halflife = 5).mean().shift())\n",
    "df_final4['going_shift'] = df_final4.groupby('dog_id').going.apply(lambda x: x.ewm(halflife = 5).mean().shift())"
   ]
  },
  {
   "cell_type": "code",
   "execution_count": 159,
   "id": "c850ca0b",
   "metadata": {},
   "outputs": [],
   "source": [
    "# conversion of decimal price to prob\n",
    "decimal_sum = df_final4.groupby('race_id', as_index = False).decimal_price.apply(lambda x: x.sum())\n",
    "decimal_sum = decimal_sum.rename(columns = {'decimal_price':'decimal_sum'})\n",
    "\n",
    "df_final4 = df_final4.merge(decimal_sum, on = 'race_id')"
   ]
  },
  {
   "cell_type": "code",
   "execution_count": 171,
   "id": "8e40f0c4",
   "metadata": {},
   "outputs": [],
   "source": [
    "df_final4['market_prob'] = logit(df_final4.decimal_price/df_final4.decimal_sum)"
   ]
  },
  {
   "cell_type": "code",
   "execution_count": 162,
   "id": "739af506",
   "metadata": {},
   "outputs": [],
   "source": [
    "train = df_final4[df_final4.dt.between('2019-07-01','2020-01-31')].sort_values(['race_id','box'])\n",
    "test = df_final4[df_final4.dt > '2020-01-31'].sort_values(['race_id','box'])"
   ]
  },
  {
   "cell_type": "code",
   "execution_count": 50,
   "id": "bae3c168",
   "metadata": {},
   "outputs": [
    {
     "name": "stdout",
     "output_type": "stream",
     "text": [
      "Log-likelihood at zero: -36,672.1279\n",
      "Initial Log-likelihood: -36,672.1279\n"
     ]
    },
    {
     "name": "stderr",
     "output_type": "stream",
     "text": [
      "C:\\Users\\sanjs\\anaconda3\\lib\\site-packages\\scipy\\optimize\\_minimize.py:519: RuntimeWarning: Method Powell does not use gradient information (jac).\n",
      "  warn('Method %s does not use gradient information (jac).' % method,\n",
      "C:\\Users\\sanjs\\anaconda3\\lib\\site-packages\\scipy\\optimize\\_minimize.py:524: RuntimeWarning: Method Powell does not use Hessian information (hess).\n",
      "  warn('Method %s does not use Hessian information (hess).' % method,\n",
      "C:\\Users\\sanjs\\anaconda3\\lib\\site-packages\\pylogit\\estimation.py:678: OptimizeWarning: Unknown solver options: gtol\n",
      "  results = minimize(estimator.calc_neg_log_likelihood_and_neg_gradient,\n"
     ]
    },
    {
     "name": "stdout",
     "output_type": "stream",
     "text": [
      "Estimation Time for Point Estimation: 4.15 seconds.\n",
      "Final log-likelihood: -35,740.7729\n"
     ]
    }
   ],
   "source": [
    "model4 = mlogit('twinner ~ mmps_forecast', train, 'race_id', 'box')"
   ]
  },
  {
   "cell_type": "code",
   "execution_count": 51,
   "id": "0774d3ca",
   "metadata": {},
   "outputs": [
    {
     "data": {
      "text/html": [
       "<table class=\"simpletable\">\n",
       "<caption>Multinomial Logit Model Regression Results</caption>\n",
       "<tr>\n",
       "  <th>Dep. Variable:</th>         <td>twinner</td>         <th>  No. Observations:  </th>   <td>20,721</td>   \n",
       "</tr>\n",
       "<tr>\n",
       "  <th>Model:</th>         <td>Multinomial Logit Model</td> <th>  Df Residuals:      </th>   <td>20,715</td>   \n",
       "</tr>\n",
       "<tr>\n",
       "  <th>Method:</th>                  <td>MLE</td>           <th>  Df Model:          </th>      <td>6</td>     \n",
       "</tr>\n",
       "<tr>\n",
       "  <th>Date:</th>             <td>Mon, 10 May 2021</td>     <th>  Pseudo R-squ.:     </th>    <td>0.025</td>   \n",
       "</tr>\n",
       "<tr>\n",
       "  <th>Time:</th>                 <td>20:18:01</td>         <th>  Pseudo R-bar-squ.: </th>    <td>0.025</td>   \n",
       "</tr>\n",
       "<tr>\n",
       "  <th>AIC:</th>                 <td>71,493.546</td>        <th>  Log-Likelihood:    </th> <td>-35,740.773</td>\n",
       "</tr>\n",
       "<tr>\n",
       "  <th>BIC:</th>                 <td>71,541.179</td>        <th>  LL-Null:           </th> <td>-36,672.128</td>\n",
       "</tr>\n",
       "</table>\n",
       "<table class=\"simpletable\">\n",
       "<tr>\n",
       "        <td></td>           <th>coef</th>     <th>std err</th>      <th>z</th>      <th>P>|z|</th>  <th>[0.025</th>    <th>0.975]</th>  \n",
       "</tr>\n",
       "<tr>\n",
       "  <th>(Intercept):2</th> <td>   -0.0506</td> <td>    0.024</td> <td>   -2.089</td> <td> 0.037</td> <td>   -0.098</td> <td>   -0.003</td>\n",
       "</tr>\n",
       "<tr>\n",
       "  <th>(Intercept):3</th> <td>    0.0357</td> <td>    0.024</td> <td>    1.489</td> <td> 0.136</td> <td>   -0.011</td> <td>    0.083</td>\n",
       "</tr>\n",
       "<tr>\n",
       "  <th>(Intercept):4</th> <td>   -0.0059</td> <td>    0.024</td> <td>   -0.244</td> <td> 0.808</td> <td>   -0.053</td> <td>    0.041</td>\n",
       "</tr>\n",
       "<tr>\n",
       "  <th>(Intercept):5</th> <td>   -0.0950</td> <td>    0.025</td> <td>   -3.848</td> <td> 0.000</td> <td>   -0.143</td> <td>   -0.047</td>\n",
       "</tr>\n",
       "<tr>\n",
       "  <th>(Intercept):6</th> <td>    0.0405</td> <td>    0.024</td> <td>    1.687</td> <td> 0.092</td> <td>   -0.007</td> <td>    0.088</td>\n",
       "</tr>\n",
       "<tr>\n",
       "  <th>mmps_forecast</th> <td>    3.3922</td> <td>    0.082</td> <td>   41.355</td> <td> 0.000</td> <td>    3.231</td> <td>    3.553</td>\n",
       "</tr>\n",
       "</table>"
      ],
      "text/plain": [
       "<class 'statsmodels.iolib.summary.Summary'>\n",
       "\"\"\"\n",
       "                     Multinomial Logit Model Regression Results                    \n",
       "===================================================================================\n",
       "Dep. Variable:                     twinner   No. Observations:               20,721\n",
       "Model:             Multinomial Logit Model   Df Residuals:                   20,715\n",
       "Method:                                MLE   Df Model:                            6\n",
       "Date:                     Mon, 10 May 2021   Pseudo R-squ.:                   0.025\n",
       "Time:                             20:18:01   Pseudo R-bar-squ.:               0.025\n",
       "AIC:                            71,493.546   Log-Likelihood:            -35,740.773\n",
       "BIC:                            71,541.179   LL-Null:                   -36,672.128\n",
       "=================================================================================\n",
       "                    coef    std err          z      P>|z|      [0.025      0.975]\n",
       "---------------------------------------------------------------------------------\n",
       "(Intercept):2    -0.0506      0.024     -2.089      0.037      -0.098      -0.003\n",
       "(Intercept):3     0.0357      0.024      1.489      0.136      -0.011       0.083\n",
       "(Intercept):4    -0.0059      0.024     -0.244      0.808      -0.053       0.041\n",
       "(Intercept):5    -0.0950      0.025     -3.848      0.000      -0.143      -0.047\n",
       "(Intercept):6     0.0405      0.024      1.687      0.092      -0.007       0.088\n",
       "mmps_forecast     3.3922      0.082     41.355      0.000       3.231       3.553\n",
       "=================================================================================\n",
       "\"\"\""
      ]
     },
     "execution_count": 51,
     "metadata": {},
     "output_type": "execute_result"
    }
   ],
   "source": [
    "model4.get_statsmodels_summary()"
   ]
  },
  {
   "cell_type": "code",
   "execution_count": 52,
   "id": "25fbbef1",
   "metadata": {},
   "outputs": [],
   "source": [
    "ytrue = test.twinner\n",
    "ypreds = model4.predict(test)"
   ]
  },
  {
   "cell_type": "code",
   "execution_count": 53,
   "id": "50aabfc5",
   "metadata": {},
   "outputs": [
    {
     "name": "stdout",
     "output_type": "stream",
     "text": [
      "Brier score loss on games after 01/31/2020: 0.13861083828837706\n"
     ]
    }
   ],
   "source": [
    "# 4.a.ii.\n",
    "print('Brier score loss on games after 01/31/2020:', brier_score_loss(ytrue, ypreds))"
   ]
  },
  {
   "cell_type": "code",
   "execution_count": 118,
   "id": "67246c6d",
   "metadata": {},
   "outputs": [
    {
     "name": "stdout",
     "output_type": "stream",
     "text": [
      "Log-likelihood at zero: -34,576.2017\n",
      "Initial Log-likelihood: -34,576.2017\n"
     ]
    },
    {
     "name": "stderr",
     "output_type": "stream",
     "text": [
      "C:\\Users\\sanjs\\anaconda3\\lib\\site-packages\\scipy\\optimize\\_minimize.py:519: RuntimeWarning: Method Powell does not use gradient information (jac).\n",
      "  warn('Method %s does not use gradient information (jac).' % method,\n",
      "C:\\Users\\sanjs\\anaconda3\\lib\\site-packages\\scipy\\optimize\\_minimize.py:524: RuntimeWarning: Method Powell does not use Hessian information (hess).\n",
      "  warn('Method %s does not use Hessian information (hess).' % method,\n",
      "C:\\Users\\sanjs\\anaconda3\\lib\\site-packages\\pylogit\\estimation.py:678: OptimizeWarning: Unknown solver options: gtol\n",
      "  results = minimize(estimator.calc_neg_log_likelihood_and_neg_gradient,\n"
     ]
    },
    {
     "name": "stdout",
     "output_type": "stream",
     "text": [
      "Estimation Time for Point Estimation: 6.23 seconds.\n",
      "Final log-likelihood: -33,515.3529\n"
     ]
    }
   ],
   "source": [
    "# 4.b.i.\n",
    "model5 = mlogit('twinner ~ mmps_forecast + decimal_shift + going_shift', train, 'race_id', 'box')"
   ]
  },
  {
   "cell_type": "code",
   "execution_count": 119,
   "id": "a3d92db3",
   "metadata": {},
   "outputs": [
    {
     "data": {
      "text/html": [
       "<table class=\"simpletable\">\n",
       "<caption>Multinomial Logit Model Regression Results</caption>\n",
       "<tr>\n",
       "  <th>Dep. Variable:</th>         <td>twinner</td>         <th>  No. Observations:  </th>   <td>20,719</td>   \n",
       "</tr>\n",
       "<tr>\n",
       "  <th>Model:</th>         <td>Multinomial Logit Model</td> <th>  Df Residuals:      </th>   <td>20,711</td>   \n",
       "</tr>\n",
       "<tr>\n",
       "  <th>Method:</th>                  <td>MLE</td>           <th>  Df Model:          </th>      <td>8</td>     \n",
       "</tr>\n",
       "<tr>\n",
       "  <th>Date:</th>             <td>Mon, 10 May 2021</td>     <th>  Pseudo R-squ.:     </th>    <td>0.031</td>   \n",
       "</tr>\n",
       "<tr>\n",
       "  <th>Time:</th>                 <td>21:28:30</td>         <th>  Pseudo R-bar-squ.: </th>    <td>0.030</td>   \n",
       "</tr>\n",
       "<tr>\n",
       "  <th>AIC:</th>                 <td>67,046.706</td>        <th>  Log-Likelihood:    </th> <td>-33,515.353</td>\n",
       "</tr>\n",
       "<tr>\n",
       "  <th>BIC:</th>                 <td>67,110.216</td>        <th>  LL-Null:           </th> <td>-34,576.202</td>\n",
       "</tr>\n",
       "</table>\n",
       "<table class=\"simpletable\">\n",
       "<tr>\n",
       "        <td></td>           <th>coef</th>     <th>std err</th>      <th>z</th>      <th>P>|z|</th>  <th>[0.025</th>    <th>0.975]</th>  \n",
       "</tr>\n",
       "<tr>\n",
       "  <th>(Intercept):2</th> <td>   -0.0539</td> <td>    0.024</td> <td>   -2.213</td> <td> 0.027</td> <td>   -0.102</td> <td>   -0.006</td>\n",
       "</tr>\n",
       "<tr>\n",
       "  <th>(Intercept):3</th> <td>    0.0243</td> <td>    0.024</td> <td>    1.002</td> <td> 0.317</td> <td>   -0.023</td> <td>    0.072</td>\n",
       "</tr>\n",
       "<tr>\n",
       "  <th>(Intercept):4</th> <td>   -0.0014</td> <td>    0.024</td> <td>   -0.058</td> <td> 0.954</td> <td>   -0.049</td> <td>    0.046</td>\n",
       "</tr>\n",
       "<tr>\n",
       "  <th>(Intercept):5</th> <td>   -0.0858</td> <td>    0.025</td> <td>   -3.463</td> <td> 0.001</td> <td>   -0.134</td> <td>   -0.037</td>\n",
       "</tr>\n",
       "<tr>\n",
       "  <th>(Intercept):6</th> <td>    0.0530</td> <td>    0.024</td> <td>    2.205</td> <td> 0.027</td> <td>    0.006</td> <td>    0.100</td>\n",
       "</tr>\n",
       "<tr>\n",
       "  <th>mmps_forecast</th> <td>    3.3097</td> <td>    0.085</td> <td>   38.882</td> <td> 0.000</td> <td>    3.143</td> <td>    3.477</td>\n",
       "</tr>\n",
       "<tr>\n",
       "  <th>decimal_shift</th> <td>   -0.0849</td> <td>    0.005</td> <td>  -17.222</td> <td> 0.000</td> <td>   -0.095</td> <td>   -0.075</td>\n",
       "</tr>\n",
       "<tr>\n",
       "  <th>going_shift</th>   <td>   -0.0883</td> <td>    0.157</td> <td>   -0.561</td> <td> 0.575</td> <td>   -0.397</td> <td>    0.220</td>\n",
       "</tr>\n",
       "</table>"
      ],
      "text/plain": [
       "<class 'statsmodels.iolib.summary.Summary'>\n",
       "\"\"\"\n",
       "                     Multinomial Logit Model Regression Results                    \n",
       "===================================================================================\n",
       "Dep. Variable:                     twinner   No. Observations:               20,719\n",
       "Model:             Multinomial Logit Model   Df Residuals:                   20,711\n",
       "Method:                                MLE   Df Model:                            8\n",
       "Date:                     Mon, 10 May 2021   Pseudo R-squ.:                   0.031\n",
       "Time:                             21:28:30   Pseudo R-bar-squ.:               0.030\n",
       "AIC:                            67,046.706   Log-Likelihood:            -33,515.353\n",
       "BIC:                            67,110.216   LL-Null:                   -34,576.202\n",
       "=================================================================================\n",
       "                    coef    std err          z      P>|z|      [0.025      0.975]\n",
       "---------------------------------------------------------------------------------\n",
       "(Intercept):2    -0.0539      0.024     -2.213      0.027      -0.102      -0.006\n",
       "(Intercept):3     0.0243      0.024      1.002      0.317      -0.023       0.072\n",
       "(Intercept):4    -0.0014      0.024     -0.058      0.954      -0.049       0.046\n",
       "(Intercept):5    -0.0858      0.025     -3.463      0.001      -0.134      -0.037\n",
       "(Intercept):6     0.0530      0.024      2.205      0.027       0.006       0.100\n",
       "mmps_forecast     3.3097      0.085     38.882      0.000       3.143       3.477\n",
       "decimal_shift    -0.0849      0.005    -17.222      0.000      -0.095      -0.075\n",
       "going_shift      -0.0883      0.157     -0.561      0.575      -0.397       0.220\n",
       "=================================================================================\n",
       "\"\"\""
      ]
     },
     "execution_count": 119,
     "metadata": {},
     "output_type": "execute_result"
    }
   ],
   "source": [
    "model5.get_statsmodels_summary()"
   ]
  },
  {
   "cell_type": "code",
   "execution_count": 120,
   "id": "7d3bf51f",
   "metadata": {},
   "outputs": [],
   "source": [
    "ytrue = test.twinner\n",
    "ypreds = model5.predict(test)"
   ]
  },
  {
   "cell_type": "code",
   "execution_count": 121,
   "id": "c518fbc9",
   "metadata": {},
   "outputs": [
    {
     "name": "stdout",
     "output_type": "stream",
     "text": [
      "Brier score loss on games after 01/31/2020: 0.13799497683809794\n"
     ]
    }
   ],
   "source": [
    "# 4.b.ii.\n",
    "print('Brier score loss on games after 01/31/2020:', brier_score_loss(ytrue[~np.isnan(ypreds)], ypreds[~np.isnan(ypreds)]))"
   ]
  },
  {
   "cell_type": "code",
   "execution_count": 172,
   "id": "0255928b",
   "metadata": {},
   "outputs": [],
   "source": [
    "# 4.c.i.\n",
    "twinner_forecast = model4.predict(df_final4)\n",
    "df_final4['twinner_forecast'] = logit(twinner_forecast)"
   ]
  },
  {
   "cell_type": "code",
   "execution_count": 173,
   "id": "e1f57620",
   "metadata": {},
   "outputs": [],
   "source": [
    "train = df_final4[df_final4.dt.between('2019-07-01','2020-01-31')].sort_values(['race_id','box'])\n",
    "test = df_final4[df_final4.dt > '2020-01-31'].sort_values(['race_id','box'])"
   ]
  },
  {
   "cell_type": "code",
   "execution_count": 174,
   "id": "15f21e3f",
   "metadata": {},
   "outputs": [
    {
     "name": "stdout",
     "output_type": "stream",
     "text": [
      "Log-likelihood at zero: -36,672.1279\n",
      "Initial Log-likelihood: -36,672.1279\n"
     ]
    },
    {
     "name": "stderr",
     "output_type": "stream",
     "text": [
      "C:\\Users\\sanjs\\anaconda3\\lib\\site-packages\\scipy\\optimize\\_minimize.py:519: RuntimeWarning: Method Powell does not use gradient information (jac).\n",
      "  warn('Method %s does not use gradient information (jac).' % method,\n",
      "C:\\Users\\sanjs\\anaconda3\\lib\\site-packages\\scipy\\optimize\\_minimize.py:524: RuntimeWarning: Method Powell does not use Hessian information (hess).\n",
      "  warn('Method %s does not use Hessian information (hess).' % method,\n",
      "C:\\Users\\sanjs\\anaconda3\\lib\\site-packages\\pylogit\\estimation.py:678: OptimizeWarning: Unknown solver options: gtol\n",
      "  results = minimize(estimator.calc_neg_log_likelihood_and_neg_gradient,\n"
     ]
    },
    {
     "name": "stdout",
     "output_type": "stream",
     "text": [
      "Estimation Time for Point Estimation: 13.12 seconds.\n",
      "Final log-likelihood: -33,579.7385\n"
     ]
    }
   ],
   "source": [
    "model6 = mlogit('twinner ~ twinner_forecast + market_prob', train, 'race_id', 'box')"
   ]
  },
  {
   "cell_type": "code",
   "execution_count": 167,
   "id": "a32c8095",
   "metadata": {},
   "outputs": [
    {
     "data": {
      "text/html": [
       "<table class=\"simpletable\">\n",
       "<caption>Multinomial Logit Model Regression Results</caption>\n",
       "<tr>\n",
       "  <th>Dep. Variable:</th>         <td>twinner</td>         <th>  No. Observations:  </th>   <td>20,721</td>   \n",
       "</tr>\n",
       "<tr>\n",
       "  <th>Model:</th>         <td>Multinomial Logit Model</td> <th>  Df Residuals:      </th>   <td>20,714</td>   \n",
       "</tr>\n",
       "<tr>\n",
       "  <th>Method:</th>                  <td>MLE</td>           <th>  Df Model:          </th>      <td>7</td>     \n",
       "</tr>\n",
       "<tr>\n",
       "  <th>Date:</th>             <td>Mon, 10 May 2021</td>     <th>  Pseudo R-squ.:     </th>    <td>0.084</td>   \n",
       "</tr>\n",
       "<tr>\n",
       "  <th>Time:</th>                 <td>23:58:10</td>         <th>  Pseudo R-bar-squ.: </th>    <td>0.084</td>   \n",
       "</tr>\n",
       "<tr>\n",
       "  <th>AIC:</th>                 <td>67,173.477</td>        <th>  Log-Likelihood:    </th> <td>-33,579.739</td>\n",
       "</tr>\n",
       "<tr>\n",
       "  <th>BIC:</th>                 <td>67,229.049</td>        <th>  LL-Null:           </th> <td>-36,672.128</td>\n",
       "</tr>\n",
       "</table>\n",
       "<table class=\"simpletable\">\n",
       "<tr>\n",
       "             <td></td>                <th>coef</th>     <th>std err</th>      <th>z</th>      <th>P>|z|</th>  <th>[0.025</th>    <th>0.975]</th>  \n",
       "</tr>\n",
       "<tr>\n",
       "  <th>(Intercept):2</th>           <td>   -0.0018</td> <td>    0.025</td> <td>   -0.073</td> <td> 0.942</td> <td>   -0.051</td> <td>    0.047</td>\n",
       "</tr>\n",
       "<tr>\n",
       "  <th>(Intercept):3</th>           <td>    0.0067</td> <td>    0.025</td> <td>    0.272</td> <td> 0.785</td> <td>   -0.041</td> <td>    0.055</td>\n",
       "</tr>\n",
       "<tr>\n",
       "  <th>(Intercept):4</th>           <td>    0.0270</td> <td>    0.025</td> <td>    1.092</td> <td> 0.275</td> <td>   -0.022</td> <td>    0.076</td>\n",
       "</tr>\n",
       "<tr>\n",
       "  <th>(Intercept):5</th>           <td>    0.0242</td> <td>    0.025</td> <td>    0.953</td> <td> 0.341</td> <td>   -0.026</td> <td>    0.074</td>\n",
       "</tr>\n",
       "<tr>\n",
       "  <th>(Intercept):6</th>           <td>    0.0516</td> <td>    0.025</td> <td>    2.094</td> <td> 0.036</td> <td>    0.003</td> <td>    0.100</td>\n",
       "</tr>\n",
       "<tr>\n",
       "  <th>logit(twinner_forecast)</th> <td>    0.1436</td> <td>    0.022</td> <td>    6.512</td> <td> 0.000</td> <td>    0.100</td> <td>    0.187</td>\n",
       "</tr>\n",
       "<tr>\n",
       "  <th>logit(market_prob)</th>      <td>   -1.0391</td> <td>    0.017</td> <td>  -62.127</td> <td> 0.000</td> <td>   -1.072</td> <td>   -1.006</td>\n",
       "</tr>\n",
       "</table>"
      ],
      "text/plain": [
       "<class 'statsmodels.iolib.summary.Summary'>\n",
       "\"\"\"\n",
       "                     Multinomial Logit Model Regression Results                    \n",
       "===================================================================================\n",
       "Dep. Variable:                     twinner   No. Observations:               20,721\n",
       "Model:             Multinomial Logit Model   Df Residuals:                   20,714\n",
       "Method:                                MLE   Df Model:                            7\n",
       "Date:                     Mon, 10 May 2021   Pseudo R-squ.:                   0.084\n",
       "Time:                             23:58:10   Pseudo R-bar-squ.:               0.084\n",
       "AIC:                            67,173.477   Log-Likelihood:            -33,579.739\n",
       "BIC:                            67,229.049   LL-Null:                   -36,672.128\n",
       "===========================================================================================\n",
       "                              coef    std err          z      P>|z|      [0.025      0.975]\n",
       "-------------------------------------------------------------------------------------------\n",
       "(Intercept):2              -0.0018      0.025     -0.073      0.942      -0.051       0.047\n",
       "(Intercept):3               0.0067      0.025      0.272      0.785      -0.041       0.055\n",
       "(Intercept):4               0.0270      0.025      1.092      0.275      -0.022       0.076\n",
       "(Intercept):5               0.0242      0.025      0.953      0.341      -0.026       0.074\n",
       "(Intercept):6               0.0516      0.025      2.094      0.036       0.003       0.100\n",
       "logit(twinner_forecast)     0.1436      0.022      6.512      0.000       0.100       0.187\n",
       "logit(market_prob)         -1.0391      0.017    -62.127      0.000      -1.072      -1.006\n",
       "===========================================================================================\n",
       "\"\"\""
      ]
     },
     "execution_count": 167,
     "metadata": {},
     "output_type": "execute_result"
    }
   ],
   "source": [
    "model6.get_statsmodels_summary()"
   ]
  },
  {
   "cell_type": "code",
   "execution_count": 176,
   "id": "528083c3",
   "metadata": {},
   "outputs": [],
   "source": [
    "ytrue = test.twinner\n",
    "ypreds = model6.predict(test)"
   ]
  },
  {
   "cell_type": "code",
   "execution_count": 177,
   "id": "1158c859",
   "metadata": {},
   "outputs": [
    {
     "name": "stdout",
     "output_type": "stream",
     "text": [
      "Brier score loss on games after 01/31/2020: 0.13156691078722232\n"
     ]
    }
   ],
   "source": [
    "# 4.c.ii.\n",
    "print('Brier score loss on games after 01/31/2020:', brier_score_loss(ytrue[~np.isnan(ypreds)], ypreds[~np.isnan(ypreds)]))"
   ]
  },
  {
   "cell_type": "code",
   "execution_count": null,
   "id": "424324c7",
   "metadata": {},
   "outputs": [],
   "source": []
  }
 ],
 "metadata": {
  "kernelspec": {
   "display_name": "Python 3",
   "language": "python",
   "name": "python3"
  },
  "language_info": {
   "codemirror_mode": {
    "name": "ipython",
    "version": 3
   },
   "file_extension": ".py",
   "mimetype": "text/x-python",
   "name": "python",
   "nbconvert_exporter": "python",
   "pygments_lexer": "ipython3",
   "version": "3.8.3"
  }
 },
 "nbformat": 4,
 "nbformat_minor": 5
}
