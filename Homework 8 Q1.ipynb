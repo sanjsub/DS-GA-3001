{
 "cells": [
  {
   "cell_type": "code",
   "execution_count": 132,
   "id": "structural-gallery",
   "metadata": {},
   "outputs": [],
   "source": [
    "import pandas as pd\n",
    "import numpy as np\n",
    "import pylogit\n",
    "from scipy.special import logit\n",
    "from datetime import timedelta\n",
    "from sklearn.metrics import brier_score_loss\n",
    "pd.options.display.max_columns = 100"
   ]
  },
  {
   "cell_type": "code",
   "execution_count": 3,
   "id": "sensitive-remedy",
   "metadata": {},
   "outputs": [],
   "source": [
    "df = pd.read_csv('xc.csv')\n",
    "df = df.loc[df.race_type == 'flat_race']"
   ]
  },
  {
   "cell_type": "code",
   "execution_count": 6,
   "id": "empirical-rover",
   "metadata": {},
   "outputs": [
    {
     "data": {
      "text/html": [
       "<div>\n",
       "<style scoped>\n",
       "    .dataframe tbody tr th:only-of-type {\n",
       "        vertical-align: middle;\n",
       "    }\n",
       "\n",
       "    .dataframe tbody tr th {\n",
       "        vertical-align: top;\n",
       "    }\n",
       "\n",
       "    .dataframe thead th {\n",
       "        text-align: right;\n",
       "    }\n",
       "</style>\n",
       "<table border=\"1\" class=\"dataframe\">\n",
       "  <thead>\n",
       "    <tr style=\"text-align: right;\">\n",
       "      <th></th>\n",
       "      <th>Unnamed: 0</th>\n",
       "      <th>race_id</th>\n",
       "      <th>stadium_id</th>\n",
       "      <th>distance_m</th>\n",
       "      <th>going</th>\n",
       "      <th>race_type</th>\n",
       "      <th>race_grade</th>\n",
       "      <th>dog_id</th>\n",
       "      <th>place</th>\n",
       "      <th>time</th>\n",
       "      <th>decimal_price</th>\n",
       "      <th>comment</th>\n",
       "      <th>box</th>\n",
       "      <th>kg</th>\n",
       "      <th>winner</th>\n",
       "      <th>dt</th>\n",
       "      <th>origTime</th>\n",
       "      <th>dnf</th>\n",
       "    </tr>\n",
       "  </thead>\n",
       "  <tbody>\n",
       "    <tr>\n",
       "      <th>0</th>\n",
       "      <td>1</td>\n",
       "      <td>4418717</td>\n",
       "      <td>13025</td>\n",
       "      <td>515</td>\n",
       "      <td>-0.1</td>\n",
       "      <td>flat_race</td>\n",
       "      <td>A6</td>\n",
       "      <td>2176330</td>\n",
       "      <td>4</td>\n",
       "      <td>31.41</td>\n",
       "      <td>11.0</td>\n",
       "      <td>BadlyBlkVW1,Crd3</td>\n",
       "      <td>5</td>\n",
       "      <td>27.75</td>\n",
       "      <td>0</td>\n",
       "      <td>2019-01-01</td>\n",
       "      <td>31.41</td>\n",
       "      <td>0</td>\n",
       "    </tr>\n",
       "    <tr>\n",
       "      <th>1</th>\n",
       "      <td>2</td>\n",
       "      <td>4418717</td>\n",
       "      <td>13025</td>\n",
       "      <td>515</td>\n",
       "      <td>-0.1</td>\n",
       "      <td>flat_race</td>\n",
       "      <td>A6</td>\n",
       "      <td>2207348</td>\n",
       "      <td>3</td>\n",
       "      <td>31.33</td>\n",
       "      <td>7.0</td>\n",
       "      <td>CrdRnUp&amp;1,Led2To 3/4</td>\n",
       "      <td>1</td>\n",
       "      <td>31.25</td>\n",
       "      <td>0</td>\n",
       "      <td>2019-01-01</td>\n",
       "      <td>31.33</td>\n",
       "      <td>0</td>\n",
       "    </tr>\n",
       "    <tr>\n",
       "      <th>2</th>\n",
       "      <td>3</td>\n",
       "      <td>4418717</td>\n",
       "      <td>13025</td>\n",
       "      <td>515</td>\n",
       "      <td>-0.1</td>\n",
       "      <td>flat_race</td>\n",
       "      <td>A6</td>\n",
       "      <td>2216661</td>\n",
       "      <td>5</td>\n",
       "      <td>31.49</td>\n",
       "      <td>7.0</td>\n",
       "      <td>BadlyBlkWide1,Blk3</td>\n",
       "      <td>6</td>\n",
       "      <td>28.50</td>\n",
       "      <td>0</td>\n",
       "      <td>2019-01-01</td>\n",
       "      <td>31.49</td>\n",
       "      <td>0</td>\n",
       "    </tr>\n",
       "    <tr>\n",
       "      <th>3</th>\n",
       "      <td>4</td>\n",
       "      <td>4418717</td>\n",
       "      <td>13025</td>\n",
       "      <td>515</td>\n",
       "      <td>-0.1</td>\n",
       "      <td>flat_race</td>\n",
       "      <td>A6</td>\n",
       "      <td>2338001</td>\n",
       "      <td>2</td>\n",
       "      <td>31.31</td>\n",
       "      <td>3.5</td>\n",
       "      <td>SAw,BBlk 1/4,Crowded3</td>\n",
       "      <td>4</td>\n",
       "      <td>35.50</td>\n",
       "      <td>0</td>\n",
       "      <td>2019-01-01</td>\n",
       "      <td>31.31</td>\n",
       "      <td>0</td>\n",
       "    </tr>\n",
       "    <tr>\n",
       "      <th>4</th>\n",
       "      <td>5</td>\n",
       "      <td>4418717</td>\n",
       "      <td>13025</td>\n",
       "      <td>515</td>\n",
       "      <td>-0.1</td>\n",
       "      <td>flat_race</td>\n",
       "      <td>A6</td>\n",
       "      <td>2342199</td>\n",
       "      <td>6</td>\n",
       "      <td>31.70</td>\n",
       "      <td>4.0</td>\n",
       "      <td>EP,CrdRnUp&amp;1&amp; 1/4&amp;3&amp;4</td>\n",
       "      <td>3</td>\n",
       "      <td>34.00</td>\n",
       "      <td>0</td>\n",
       "      <td>2019-01-01</td>\n",
       "      <td>31.70</td>\n",
       "      <td>0</td>\n",
       "    </tr>\n",
       "  </tbody>\n",
       "</table>\n",
       "</div>"
      ],
      "text/plain": [
       "   Unnamed: 0  race_id  stadium_id  distance_m  going  race_type race_grade  \\\n",
       "0           1  4418717       13025         515   -0.1  flat_race         A6   \n",
       "1           2  4418717       13025         515   -0.1  flat_race         A6   \n",
       "2           3  4418717       13025         515   -0.1  flat_race         A6   \n",
       "3           4  4418717       13025         515   -0.1  flat_race         A6   \n",
       "4           5  4418717       13025         515   -0.1  flat_race         A6   \n",
       "\n",
       "    dog_id  place   time  decimal_price                comment  box     kg  \\\n",
       "0  2176330      4  31.41           11.0       BadlyBlkVW1,Crd3    5  27.75   \n",
       "1  2207348      3  31.33            7.0   CrdRnUp&1,Led2To 3/4    1  31.25   \n",
       "2  2216661      5  31.49            7.0     BadlyBlkWide1,Blk3    6  28.50   \n",
       "3  2338001      2  31.31            3.5  SAw,BBlk 1/4,Crowded3    4  35.50   \n",
       "4  2342199      6  31.70            4.0  EP,CrdRnUp&1& 1/4&3&4    3  34.00   \n",
       "\n",
       "   winner          dt  origTime  dnf  \n",
       "0       0  2019-01-01     31.41    0  \n",
       "1       0  2019-01-01     31.33    0  \n",
       "2       0  2019-01-01     31.49    0  \n",
       "3       0  2019-01-01     31.31    0  \n",
       "4       0  2019-01-01     31.70    0  "
      ]
     },
     "execution_count": 6,
     "metadata": {},
     "output_type": "execute_result"
    }
   ],
   "source": [
    "df.head()"
   ]
  },
  {
   "cell_type": "code",
   "execution_count": 7,
   "id": "known-tension",
   "metadata": {},
   "outputs": [],
   "source": [
    "dups = df.groupby('race_id').box.agg(lambda x : len(x)-x.nunique())\n",
    "dups = dups.loc[dups>0]"
   ]
  },
  {
   "cell_type": "code",
   "execution_count": 8,
   "id": "covered-clause",
   "metadata": {},
   "outputs": [],
   "source": [
    "df = df.loc[~df.race_id.isin(dups.index)].copy()"
   ]
  },
  {
   "cell_type": "code",
   "execution_count": 9,
   "id": "young-composer",
   "metadata": {},
   "outputs": [],
   "source": [
    "win_choice = df.loc[df.winner == 1].sample(frac = 1.0).groupby('race_id').head(1).loc[:,['race_id','box']].copy()\n",
    "win_choice['twinner'] = 1"
   ]
  },
  {
   "cell_type": "code",
   "execution_count": 10,
   "id": "parallel-probe",
   "metadata": {},
   "outputs": [],
   "source": [
    "dfm = df.merge(win_choice, on = ['race_id','box'], how = 'left')\n",
    "dfm.twinner = dfm.twinner.fillna(0)\n",
    "dfm = dfm.sort_values(['race_id','box'])"
   ]
  },
  {
   "cell_type": "code",
   "execution_count": 34,
   "id": "reverse-islam",
   "metadata": {},
   "outputs": [],
   "source": [
    "dfm = dfm.sort_values('dt')"
   ]
  },
  {
   "cell_type": "code",
   "execution_count": 135,
   "id": "spanish-antigua",
   "metadata": {},
   "outputs": [],
   "source": [
    "startupTIME = 1.75\n",
    "distDEFAULT = 400\n",
    "distEXPONENT = 0.11\n",
    "dfm['mps'] = dfm.time - startupTIME\n",
    "dfm['mmps'] = dfm.distance_m/dfm.mps * (dfm.distance_m**distEXPONENT)/(distDEFAULT**distEXPONENT)"
   ]
  },
  {
   "cell_type": "code",
   "execution_count": 136,
   "id": "proud-battery",
   "metadata": {},
   "outputs": [],
   "source": [
    "dfm['avgmps'] = dfm.groupby('dog_id').mmps.apply(lambda x: x.shift().expanding().mean())"
   ]
  },
  {
   "cell_type": "code",
   "execution_count": 137,
   "id": "curious-certificate",
   "metadata": {},
   "outputs": [],
   "source": [
    "# filtering out races with less than 4 dogs\n",
    "flattrack = dfm.groupby('race_id').dog_id.agg(lambda x: x.count())\n",
    "flattrack = flattrack.loc[flattrack >= 4]\n",
    "dfmf = dfm.loc[dfm.race_id.isin(flattrack.index)].copy()"
   ]
  },
  {
   "cell_type": "code",
   "execution_count": 138,
   "id": "whole-cardiff",
   "metadata": {},
   "outputs": [],
   "source": [
    "# add column to count number of prior races for each dog\n",
    "dfmf['prior_races'] = dfmf.groupby('dog_id').cumcount()"
   ]
  },
  {
   "cell_type": "code",
   "execution_count": 139,
   "id": "devoted-membrane",
   "metadata": {},
   "outputs": [],
   "source": [
    "# filter out races where all dogs did not have at least 3 prior races\n",
    "priors = dfmf[dfmf['prior_races'] >= 3].groupby('race_id').prior_races.count()/dfmf.groupby('race_id').prior_races.count()\n",
    "priors = priors.loc[priors == 1]\n",
    "dfmfp = dfmf.loc[dfmf.race_id.isin(priors.index)].copy()"
   ]
  },
  {
   "cell_type": "code",
   "execution_count": 140,
   "id": "academic-turning",
   "metadata": {},
   "outputs": [],
   "source": [
    "# create column with date of last race run by that dog\n",
    "dfmfp['last_race'] = dfmfp.groupby('dog_id').dt.shift()"
   ]
  },
  {
   "cell_type": "code",
   "execution_count": 141,
   "id": "loved-precipitation",
   "metadata": {},
   "outputs": [],
   "source": [
    "# convert dates to datetime\n",
    "dfmfp['dt'] = pd.to_datetime(dfmfp['dt'])\n",
    "dfmfp['last_race'] = pd.to_datetime(dfmfp['last_race'])"
   ]
  },
  {
   "cell_type": "code",
   "execution_count": 142,
   "id": "adjustable-diversity",
   "metadata": {},
   "outputs": [],
   "source": [
    "# filter out races where all dogs have not run a race in the past 90 days\n",
    "ninety = dfmfp.loc[dfmfp.dt > dfmfp.last_race + timedelta(90)].race_id.unique()\n",
    "df_final = dfmfp.loc[~dfmfp.race_id.isin(ninety)].copy()"
   ]
  },
  {
   "cell_type": "code",
   "execution_count": 143,
   "id": "numerical-astrology",
   "metadata": {},
   "outputs": [],
   "source": [
    "train = df_final[df_final.dt.between('2019-07-01','2020-01-31')].sort_values(['race_id','box'])\n",
    "test = df_final[df_final.dt > '2020-01-31'].sort_values(['race_id','box'])"
   ]
  },
  {
   "cell_type": "code",
   "execution_count": 126,
   "id": "acknowledged-vegetarian",
   "metadata": {},
   "outputs": [],
   "source": [
    "def mlogit(formula, df, obs_id, alt_id) :\n",
    "    \"\"\"\n",
    "    df must be sorted by obs_id to use this function\n",
    "    \"\"\"\n",
    "    from patsy import dmatrices\n",
    "    from collections import OrderedDict\n",
    "    import pylogit as pl\n",
    "    import numpy as np\n",
    "    data = dmatrices(formula+' -1', df, return_type = \"dataframe\")\n",
    "    all_alts = sorted(df.loc[:,alt_id].unique())\n",
    "    \n",
    "    spec = OrderedDict()\n",
    "    names = OrderedDict()\n",
    "    spec['intercept'] = all_alts[1:]\n",
    "    names['intercept'] = [f'(Intercept):{alt}' for alt in all_alts[1:]]\n",
    "    c_names = data[1].design_info.column_names\n",
    "    choice = data[0].design_info.column_names[0]\n",
    "    data[1][choice] = data[0]\n",
    "    data[1][[obs_id,alt_id]] = df[[obs_id,alt_id]]    \n",
    "    for c in c_names :\n",
    "        spec[c] = [all_alts]\n",
    "        names[c] = [c]\n",
    "    model = pl.create_choice_model(data = data[1], alt_id_col = alt_id, obs_id_col = obs_id, \n",
    "                                   choice_col = choice, specification = spec, names = names, model_type = 'MNL')\n",
    "    model.fit_mle(np.zeros(model.design.shape[1]), method = 'Powell')\n",
    "    return model"
   ]
  },
  {
   "cell_type": "code",
   "execution_count": 144,
   "id": "ceramic-canvas",
   "metadata": {},
   "outputs": [
    {
     "name": "stdout",
     "output_type": "stream",
     "text": [
      "Log-likelihood at zero: -36,672.1279\n",
      "Initial Log-likelihood: -36,672.1279\n"
     ]
    },
    {
     "name": "stderr",
     "output_type": "stream",
     "text": [
      "C:\\Users\\sanjs\\anaconda3\\lib\\site-packages\\scipy\\optimize\\_minimize.py:519: RuntimeWarning: Method Powell does not use gradient information (jac).\n",
      "  warn('Method %s does not use gradient information (jac).' % method,\n",
      "C:\\Users\\sanjs\\anaconda3\\lib\\site-packages\\scipy\\optimize\\_minimize.py:524: RuntimeWarning: Method Powell does not use Hessian information (hess).\n",
      "  warn('Method %s does not use Hessian information (hess).' % method,\n",
      "C:\\Users\\sanjs\\anaconda3\\lib\\site-packages\\pylogit\\estimation.py:678: OptimizeWarning: Unknown solver options: gtol\n",
      "  results = minimize(estimator.calc_neg_log_likelihood_and_neg_gradient,\n"
     ]
    },
    {
     "name": "stdout",
     "output_type": "stream",
     "text": [
      "Estimation Time for Point Estimation: 6.20 seconds.\n",
      "Final log-likelihood: -36,293.5730\n"
     ]
    }
   ],
   "source": [
    "model = mlogit('twinner ~ avgmps', train, 'race_id', 'box')"
   ]
  },
  {
   "cell_type": "code",
   "execution_count": 145,
   "id": "approved-paris",
   "metadata": {},
   "outputs": [
    {
     "data": {
      "text/html": [
       "<table class=\"simpletable\">\n",
       "<caption>Multinomial Logit Model Regression Results</caption>\n",
       "<tr>\n",
       "  <th>Dep. Variable:</th>         <td>twinner</td>         <th>  No. Observations:  </th>   <td>20,721</td>   \n",
       "</tr>\n",
       "<tr>\n",
       "  <th>Model:</th>         <td>Multinomial Logit Model</td> <th>  Df Residuals:      </th>   <td>20,715</td>   \n",
       "</tr>\n",
       "<tr>\n",
       "  <th>Method:</th>                  <td>MLE</td>           <th>  Df Model:          </th>      <td>6</td>     \n",
       "</tr>\n",
       "<tr>\n",
       "  <th>Date:</th>             <td>Tue, 27 Apr 2021</td>     <th>  Pseudo R-squ.:     </th>    <td>0.010</td>   \n",
       "</tr>\n",
       "<tr>\n",
       "  <th>Time:</th>                 <td>23:08:51</td>         <th>  Pseudo R-bar-squ.: </th>    <td>0.010</td>   \n",
       "</tr>\n",
       "<tr>\n",
       "  <th>AIC:</th>                 <td>72,599.146</td>        <th>  Log-Likelihood:    </th> <td>-36,293.573</td>\n",
       "</tr>\n",
       "<tr>\n",
       "  <th>BIC:</th>                 <td>72,646.779</td>        <th>  LL-Null:           </th> <td>-36,672.128</td>\n",
       "</tr>\n",
       "</table>\n",
       "<table class=\"simpletable\">\n",
       "<tr>\n",
       "        <td></td>           <th>coef</th>     <th>std err</th>      <th>z</th>      <th>P>|z|</th>  <th>[0.025</th>    <th>0.975]</th>  \n",
       "</tr>\n",
       "<tr>\n",
       "  <th>(Intercept):2</th> <td>   -0.0456</td> <td>    0.024</td> <td>   -1.892</td> <td> 0.059</td> <td>   -0.093</td> <td>    0.002</td>\n",
       "</tr>\n",
       "<tr>\n",
       "  <th>(Intercept):3</th> <td>    0.0168</td> <td>    0.024</td> <td>    0.706</td> <td> 0.480</td> <td>   -0.030</td> <td>    0.063</td>\n",
       "</tr>\n",
       "<tr>\n",
       "  <th>(Intercept):4</th> <td>   -0.0141</td> <td>    0.024</td> <td>   -0.586</td> <td> 0.558</td> <td>   -0.061</td> <td>    0.033</td>\n",
       "</tr>\n",
       "<tr>\n",
       "  <th>(Intercept):5</th> <td>   -0.1060</td> <td>    0.025</td> <td>   -4.316</td> <td> 0.000</td> <td>   -0.154</td> <td>   -0.058</td>\n",
       "</tr>\n",
       "<tr>\n",
       "  <th>(Intercept):6</th> <td>    0.0245</td> <td>    0.024</td> <td>    1.024</td> <td> 0.306</td> <td>   -0.022</td> <td>    0.071</td>\n",
       "</tr>\n",
       "<tr>\n",
       "  <th>avgmps</th>        <td>    1.2394</td> <td>    0.047</td> <td>   26.457</td> <td> 0.000</td> <td>    1.148</td> <td>    1.331</td>\n",
       "</tr>\n",
       "</table>"
      ],
      "text/plain": [
       "<class 'statsmodels.iolib.summary.Summary'>\n",
       "\"\"\"\n",
       "                     Multinomial Logit Model Regression Results                    \n",
       "===================================================================================\n",
       "Dep. Variable:                     twinner   No. Observations:               20,721\n",
       "Model:             Multinomial Logit Model   Df Residuals:                   20,715\n",
       "Method:                                MLE   Df Model:                            6\n",
       "Date:                     Tue, 27 Apr 2021   Pseudo R-squ.:                   0.010\n",
       "Time:                             23:08:51   Pseudo R-bar-squ.:               0.010\n",
       "AIC:                            72,599.146   Log-Likelihood:            -36,293.573\n",
       "BIC:                            72,646.779   LL-Null:                   -36,672.128\n",
       "=================================================================================\n",
       "                    coef    std err          z      P>|z|      [0.025      0.975]\n",
       "---------------------------------------------------------------------------------\n",
       "(Intercept):2    -0.0456      0.024     -1.892      0.059      -0.093       0.002\n",
       "(Intercept):3     0.0168      0.024      0.706      0.480      -0.030       0.063\n",
       "(Intercept):4    -0.0141      0.024     -0.586      0.558      -0.061       0.033\n",
       "(Intercept):5    -0.1060      0.025     -4.316      0.000      -0.154      -0.058\n",
       "(Intercept):6     0.0245      0.024      1.024      0.306      -0.022       0.071\n",
       "avgmps            1.2394      0.047     26.457      0.000       1.148       1.331\n",
       "=================================================================================\n",
       "\"\"\""
      ]
     },
     "execution_count": 145,
     "metadata": {},
     "output_type": "execute_result"
    }
   ],
   "source": [
    "model.get_statsmodels_summary()"
   ]
  },
  {
   "cell_type": "code",
   "execution_count": 146,
   "id": "reliable-ferry",
   "metadata": {},
   "outputs": [],
   "source": [
    "ytrue = test.twinner\n",
    "ypreds = model.predict(test)"
   ]
  },
  {
   "cell_type": "code",
   "execution_count": 148,
   "id": "unavailable-simple",
   "metadata": {},
   "outputs": [
    {
     "name": "stdout",
     "output_type": "stream",
     "text": [
      "Brier score loss on games after 01/31/2020: 0.14005503205974762\n"
     ]
    }
   ],
   "source": [
    "print('Brier score loss on games after 01/31/2020:', brier_score_loss(ytrue, ypreds))"
   ]
  },
  {
   "cell_type": "code",
   "execution_count": null,
   "id": "rubber-commissioner",
   "metadata": {},
   "outputs": [],
   "source": []
  }
 ],
 "metadata": {
  "kernelspec": {
   "display_name": "Python 3",
   "language": "python",
   "name": "python3"
  },
  "language_info": {
   "codemirror_mode": {
    "name": "ipython",
    "version": 3
   },
   "file_extension": ".py",
   "mimetype": "text/x-python",
   "name": "python",
   "nbconvert_exporter": "python",
   "pygments_lexer": "ipython3",
   "version": "3.8.3"
  }
 },
 "nbformat": 4,
 "nbformat_minor": 5
}
